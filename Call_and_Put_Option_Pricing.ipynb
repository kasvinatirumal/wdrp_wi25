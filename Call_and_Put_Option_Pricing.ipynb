{
  "cells": [
    {
      "cell_type": "markdown",
      "metadata": {
        "id": "view-in-github",
        "colab_type": "text"
      },
      "source": [
        "<a href=\"https://colab.research.google.com/github/kasvinatirumal/wdrp_wi25/blob/main/Call_and_Put_Option_Pricing.ipynb\" target=\"_parent\"><img src=\"https://colab.research.google.com/assets/colab-badge.svg\" alt=\"Open In Colab\"/></a>"
      ]
    },
    {
      "cell_type": "markdown",
      "metadata": {
        "id": "Wf5KrEb6vrkR"
      },
      "source": [
        "# Pricing Call and Put Options for Microsoft Stock using the Black-Scholes Model"
      ]
    },
    {
      "cell_type": "code",
      "source": [
        "pip install yahoo_fin"
      ],
      "metadata": {
        "colab": {
          "base_uri": "https://localhost:8080/"
        },
        "id": "hflfnwd0MSFH",
        "outputId": "5fafaad6-573c-4131-b661-c7086deea623"
      },
      "execution_count": 24,
      "outputs": [
        {
          "output_type": "stream",
          "name": "stdout",
          "text": [
            "Requirement already satisfied: yahoo_fin in /usr/local/lib/python3.11/dist-packages (0.8.9.1)\n",
            "Requirement already satisfied: requests-html in /usr/local/lib/python3.11/dist-packages (from yahoo_fin) (0.10.0)\n",
            "Requirement already satisfied: feedparser in /usr/local/lib/python3.11/dist-packages (from yahoo_fin) (6.0.11)\n",
            "Requirement already satisfied: requests in /usr/local/lib/python3.11/dist-packages (from yahoo_fin) (2.32.3)\n",
            "Requirement already satisfied: pandas in /usr/local/lib/python3.11/dist-packages (from yahoo_fin) (2.2.2)\n",
            "Requirement already satisfied: sgmllib3k in /usr/local/lib/python3.11/dist-packages (from feedparser->yahoo_fin) (1.0.0)\n",
            "Requirement already satisfied: numpy>=1.23.2 in /usr/local/lib/python3.11/dist-packages (from pandas->yahoo_fin) (1.26.4)\n",
            "Requirement already satisfied: python-dateutil>=2.8.2 in /usr/local/lib/python3.11/dist-packages (from pandas->yahoo_fin) (2.8.2)\n",
            "Requirement already satisfied: pytz>=2020.1 in /usr/local/lib/python3.11/dist-packages (from pandas->yahoo_fin) (2025.1)\n",
            "Requirement already satisfied: tzdata>=2022.7 in /usr/local/lib/python3.11/dist-packages (from pandas->yahoo_fin) (2025.1)\n",
            "Requirement already satisfied: charset-normalizer<4,>=2 in /usr/local/lib/python3.11/dist-packages (from requests->yahoo_fin) (3.4.1)\n",
            "Requirement already satisfied: idna<4,>=2.5 in /usr/local/lib/python3.11/dist-packages (from requests->yahoo_fin) (3.10)\n",
            "Requirement already satisfied: urllib3<3,>=1.21.1 in /usr/local/lib/python3.11/dist-packages (from requests->yahoo_fin) (1.26.20)\n",
            "Requirement already satisfied: certifi>=2017.4.17 in /usr/local/lib/python3.11/dist-packages (from requests->yahoo_fin) (2025.1.31)\n",
            "Requirement already satisfied: pyquery in /usr/local/lib/python3.11/dist-packages (from requests-html->yahoo_fin) (2.0.1)\n",
            "Requirement already satisfied: fake-useragent in /usr/local/lib/python3.11/dist-packages (from requests-html->yahoo_fin) (2.0.3)\n",
            "Requirement already satisfied: parse in /usr/local/lib/python3.11/dist-packages (from requests-html->yahoo_fin) (1.20.2)\n",
            "Requirement already satisfied: bs4 in /usr/local/lib/python3.11/dist-packages (from requests-html->yahoo_fin) (0.0.2)\n",
            "Requirement already satisfied: w3lib in /usr/local/lib/python3.11/dist-packages (from requests-html->yahoo_fin) (2.3.1)\n",
            "Requirement already satisfied: pyppeteer>=0.0.14 in /usr/local/lib/python3.11/dist-packages (from requests-html->yahoo_fin) (2.0.0)\n",
            "Requirement already satisfied: appdirs<2.0.0,>=1.4.3 in /usr/local/lib/python3.11/dist-packages (from pyppeteer>=0.0.14->requests-html->yahoo_fin) (1.4.4)\n",
            "Requirement already satisfied: importlib-metadata>=1.4 in /usr/local/lib/python3.11/dist-packages (from pyppeteer>=0.0.14->requests-html->yahoo_fin) (8.6.1)\n",
            "Requirement already satisfied: pyee<12.0.0,>=11.0.0 in /usr/local/lib/python3.11/dist-packages (from pyppeteer>=0.0.14->requests-html->yahoo_fin) (11.1.1)\n",
            "Requirement already satisfied: tqdm<5.0.0,>=4.42.1 in /usr/local/lib/python3.11/dist-packages (from pyppeteer>=0.0.14->requests-html->yahoo_fin) (4.67.1)\n",
            "Requirement already satisfied: websockets<11.0,>=10.0 in /usr/local/lib/python3.11/dist-packages (from pyppeteer>=0.0.14->requests-html->yahoo_fin) (10.4)\n",
            "Requirement already satisfied: six>=1.5 in /usr/local/lib/python3.11/dist-packages (from python-dateutil>=2.8.2->pandas->yahoo_fin) (1.17.0)\n",
            "Requirement already satisfied: beautifulsoup4 in /usr/local/lib/python3.11/dist-packages (from bs4->requests-html->yahoo_fin) (4.13.3)\n",
            "Requirement already satisfied: lxml>=2.1 in /usr/local/lib/python3.11/dist-packages (from pyquery->requests-html->yahoo_fin) (5.3.1)\n",
            "Requirement already satisfied: cssselect>=1.2.0 in /usr/local/lib/python3.11/dist-packages (from pyquery->requests-html->yahoo_fin) (1.2.0)\n",
            "Requirement already satisfied: zipp>=3.20 in /usr/local/lib/python3.11/dist-packages (from importlib-metadata>=1.4->pyppeteer>=0.0.14->requests-html->yahoo_fin) (3.21.0)\n",
            "Requirement already satisfied: typing-extensions in /usr/local/lib/python3.11/dist-packages (from pyee<12.0.0,>=11.0.0->pyppeteer>=0.0.14->requests-html->yahoo_fin) (4.12.2)\n",
            "Requirement already satisfied: soupsieve>1.2 in /usr/local/lib/python3.11/dist-packages (from beautifulsoup4->bs4->requests-html->yahoo_fin) (2.6)\n"
          ]
        }
      ]
    },
    {
      "cell_type": "code",
      "source": [
        "from yahoo_fin import options\n",
        "import yfinance as yf\n",
        "import pandas as pd\n",
        "import math\n",
        "from scipy.stats import norm\n",
        "import seaborn as sns\n",
        "import matplotlib.pyplot as plt"
      ],
      "metadata": {
        "id": "EEszutnWZrHt"
      },
      "execution_count": 25,
      "outputs": []
    },
    {
      "cell_type": "markdown",
      "source": [
        "## Obtaining Microsoft Stock Data from Yahoo Finance"
      ],
      "metadata": {
        "id": "PiwB5E_-ebC3"
      }
    },
    {
      "cell_type": "code",
      "source": [
        "# creates a Ticker object for Microsoft stock (MSFT)\n",
        "msft = yf.Ticker(\"MSFT\")\n",
        "\n",
        "# gets expiration_dates for options\n",
        "expiration_dates = msft.options\n",
        "print(expiration_dates)"
      ],
      "metadata": {
        "colab": {
          "base_uri": "https://localhost:8080/"
        },
        "id": "nx1FHDJYjZo6",
        "outputId": "d1effae0-5f7d-4db6-b926-3eba55b74941"
      },
      "execution_count": 26,
      "outputs": [
        {
          "output_type": "stream",
          "name": "stdout",
          "text": [
            "('2025-02-28', '2025-03-07', '2025-03-14', '2025-03-21', '2025-03-28', '2025-04-04', '2025-04-17', '2025-05-16', '2025-06-20', '2025-07-18', '2025-08-15', '2025-09-19', '2025-10-17', '2025-12-19', '2026-01-16', '2026-03-20', '2026-06-18', '2026-12-18', '2027-01-15', '2027-06-17', '2027-12-17')\n"
          ]
        }
      ]
    },
    {
      "cell_type": "markdown",
      "source": [
        "## Pricing Call Options"
      ],
      "metadata": {
        "id": "Uu5ORhkZ0hRJ"
      }
    },
    {
      "cell_type": "code",
      "source": [
        "# gets data for call options that expire on 2025-08-15\n",
        "call_options = options.get_calls(\"MSFT\", \"2025-08-15\")\n",
        "print(call_options)"
      ],
      "metadata": {
        "colab": {
          "base_uri": "https://localhost:8080/"
        },
        "id": "qjFxNrcLoSTs",
        "outputId": "a157ffc7-513d-44a1-863b-74390d741cf9"
      },
      "execution_count": 27,
      "outputs": [
        {
          "output_type": "stream",
          "name": "stderr",
          "text": [
            "/usr/local/lib/python3.11/dist-packages/yahoo_fin/options.py:42: FutureWarning: Passing literal html to 'read_html' is deprecated and will be removed in a future version. To read from a literal string, wrap it in a 'StringIO' object.\n",
            "  tables = pd.read_html(requests.get(site, headers=headers).text)\n"
          ]
        },
        {
          "output_type": "stream",
          "name": "stdout",
          "text": [
            "          Contract Name Last Trade Date (EST)  Strike  Last Price     Bid  \\\n",
            "0   MSFT250815C00200000    2/24/2025 12:00 PM     200      207.54  200.30   \n",
            "1   MSFT250815C00210000   12/27/2024 11:15 AM     210      224.43  207.40   \n",
            "2   MSFT250815C00225000   12/16/2024 12:13 AM     225      215.60  228.60   \n",
            "3   MSFT250815C00230000      1/6/2025 3:43 PM     230      203.40    0.00   \n",
            "4   MSFT250815C00235000      1/6/2025 3:50 PM     235      198.85    0.00   \n",
            "..                  ...                   ...     ...         ...     ...   \n",
            "77  MSFT250815C00610000      2/5/2025 9:37 AM     610        0.56    0.24   \n",
            "78  MSFT250815C00615000     2/25/2025 2:25 PM     615        0.25    0.22   \n",
            "79  MSFT250815C00620000     2/11/2025 9:30 AM     620        0.23    0.20   \n",
            "80  MSFT250815C00640000     2/25/2025 9:48 AM     640        0.15    0.13   \n",
            "81  MSFT250815C00660000    2/25/2025 12:35 PM     660        0.13    0.09   \n",
            "\n",
            "       Ask  Change % Change Volume  Open Interest Implied Volatility  \n",
            "0   203.40    0.00    0.00%      4              8             67.90%  \n",
            "1   211.05    0.00    0.00%     15             15            106.72%  \n",
            "2   231.55    0.00    0.00%      1              1            158.43%  \n",
            "3     0.00    0.00    0.00%     15             33              0.00%  \n",
            "4     0.00    0.00    0.00%     41             31              0.00%  \n",
            "..     ...     ...      ...    ...            ...                ...  \n",
            "77    0.30    0.00    0.00%     33             59             26.76%  \n",
            "78    0.27   -0.05  -16.67%     10            162             26.86%  \n",
            "79    0.26   -0.21  -47.73%      1            127             27.15%  \n",
            "80    0.18   -0.03  -16.67%      1           2167             27.59%  \n",
            "81    0.15    0.00    0.00%     10            202             28.52%  \n",
            "\n",
            "[82 rows x 11 columns]\n"
          ]
        }
      ]
    },
    {
      "cell_type": "code",
      "source": [
        "df1 = pd.DataFrame(call_options)\n",
        "df1.to_csv('call_options.csv', index=False)"
      ],
      "metadata": {
        "id": "wIXOWOB4kEVh"
      },
      "execution_count": 28,
      "outputs": []
    },
    {
      "cell_type": "code",
      "source": [
        "calls = df1.copy()\n",
        "calls.head()"
      ],
      "metadata": {
        "colab": {
          "base_uri": "https://localhost:8080/",
          "height": 206
        },
        "id": "NV987sKPzcSN",
        "outputId": "df3258c9-e956-4eb8-e68a-2028b39cd1b8"
      },
      "execution_count": 29,
      "outputs": [
        {
          "output_type": "execute_result",
          "data": {
            "text/plain": [
              "         Contract Name Last Trade Date (EST)  Strike  Last Price    Bid  \\\n",
              "0  MSFT250815C00200000    2/24/2025 12:00 PM     200      207.54  200.3   \n",
              "1  MSFT250815C00210000   12/27/2024 11:15 AM     210      224.43  207.4   \n",
              "2  MSFT250815C00225000   12/16/2024 12:13 AM     225      215.60  228.6   \n",
              "3  MSFT250815C00230000      1/6/2025 3:43 PM     230      203.40    0.0   \n",
              "4  MSFT250815C00235000      1/6/2025 3:50 PM     235      198.85    0.0   \n",
              "\n",
              "      Ask  Change % Change Volume  Open Interest Implied Volatility  \n",
              "0  203.40     0.0    0.00%      4              8             67.90%  \n",
              "1  211.05     0.0    0.00%     15             15            106.72%  \n",
              "2  231.55     0.0    0.00%      1              1            158.43%  \n",
              "3    0.00     0.0    0.00%     15             33              0.00%  \n",
              "4    0.00     0.0    0.00%     41             31              0.00%  "
            ],
            "text/html": [
              "\n",
              "  <div id=\"df-65526a52-7060-43c2-966c-7d84a61b6d93\" class=\"colab-df-container\">\n",
              "    <div>\n",
              "<style scoped>\n",
              "    .dataframe tbody tr th:only-of-type {\n",
              "        vertical-align: middle;\n",
              "    }\n",
              "\n",
              "    .dataframe tbody tr th {\n",
              "        vertical-align: top;\n",
              "    }\n",
              "\n",
              "    .dataframe thead th {\n",
              "        text-align: right;\n",
              "    }\n",
              "</style>\n",
              "<table border=\"1\" class=\"dataframe\">\n",
              "  <thead>\n",
              "    <tr style=\"text-align: right;\">\n",
              "      <th></th>\n",
              "      <th>Contract Name</th>\n",
              "      <th>Last Trade Date (EST)</th>\n",
              "      <th>Strike</th>\n",
              "      <th>Last Price</th>\n",
              "      <th>Bid</th>\n",
              "      <th>Ask</th>\n",
              "      <th>Change</th>\n",
              "      <th>% Change</th>\n",
              "      <th>Volume</th>\n",
              "      <th>Open Interest</th>\n",
              "      <th>Implied Volatility</th>\n",
              "    </tr>\n",
              "  </thead>\n",
              "  <tbody>\n",
              "    <tr>\n",
              "      <th>0</th>\n",
              "      <td>MSFT250815C00200000</td>\n",
              "      <td>2/24/2025 12:00 PM</td>\n",
              "      <td>200</td>\n",
              "      <td>207.54</td>\n",
              "      <td>200.3</td>\n",
              "      <td>203.40</td>\n",
              "      <td>0.0</td>\n",
              "      <td>0.00%</td>\n",
              "      <td>4</td>\n",
              "      <td>8</td>\n",
              "      <td>67.90%</td>\n",
              "    </tr>\n",
              "    <tr>\n",
              "      <th>1</th>\n",
              "      <td>MSFT250815C00210000</td>\n",
              "      <td>12/27/2024 11:15 AM</td>\n",
              "      <td>210</td>\n",
              "      <td>224.43</td>\n",
              "      <td>207.4</td>\n",
              "      <td>211.05</td>\n",
              "      <td>0.0</td>\n",
              "      <td>0.00%</td>\n",
              "      <td>15</td>\n",
              "      <td>15</td>\n",
              "      <td>106.72%</td>\n",
              "    </tr>\n",
              "    <tr>\n",
              "      <th>2</th>\n",
              "      <td>MSFT250815C00225000</td>\n",
              "      <td>12/16/2024 12:13 AM</td>\n",
              "      <td>225</td>\n",
              "      <td>215.60</td>\n",
              "      <td>228.6</td>\n",
              "      <td>231.55</td>\n",
              "      <td>0.0</td>\n",
              "      <td>0.00%</td>\n",
              "      <td>1</td>\n",
              "      <td>1</td>\n",
              "      <td>158.43%</td>\n",
              "    </tr>\n",
              "    <tr>\n",
              "      <th>3</th>\n",
              "      <td>MSFT250815C00230000</td>\n",
              "      <td>1/6/2025 3:43 PM</td>\n",
              "      <td>230</td>\n",
              "      <td>203.40</td>\n",
              "      <td>0.0</td>\n",
              "      <td>0.00</td>\n",
              "      <td>0.0</td>\n",
              "      <td>0.00%</td>\n",
              "      <td>15</td>\n",
              "      <td>33</td>\n",
              "      <td>0.00%</td>\n",
              "    </tr>\n",
              "    <tr>\n",
              "      <th>4</th>\n",
              "      <td>MSFT250815C00235000</td>\n",
              "      <td>1/6/2025 3:50 PM</td>\n",
              "      <td>235</td>\n",
              "      <td>198.85</td>\n",
              "      <td>0.0</td>\n",
              "      <td>0.00</td>\n",
              "      <td>0.0</td>\n",
              "      <td>0.00%</td>\n",
              "      <td>41</td>\n",
              "      <td>31</td>\n",
              "      <td>0.00%</td>\n",
              "    </tr>\n",
              "  </tbody>\n",
              "</table>\n",
              "</div>\n",
              "    <div class=\"colab-df-buttons\">\n",
              "\n",
              "  <div class=\"colab-df-container\">\n",
              "    <button class=\"colab-df-convert\" onclick=\"convertToInteractive('df-65526a52-7060-43c2-966c-7d84a61b6d93')\"\n",
              "            title=\"Convert this dataframe to an interactive table.\"\n",
              "            style=\"display:none;\">\n",
              "\n",
              "  <svg xmlns=\"http://www.w3.org/2000/svg\" height=\"24px\" viewBox=\"0 -960 960 960\">\n",
              "    <path d=\"M120-120v-720h720v720H120Zm60-500h600v-160H180v160Zm220 220h160v-160H400v160Zm0 220h160v-160H400v160ZM180-400h160v-160H180v160Zm440 0h160v-160H620v160ZM180-180h160v-160H180v160Zm440 0h160v-160H620v160Z\"/>\n",
              "  </svg>\n",
              "    </button>\n",
              "\n",
              "  <style>\n",
              "    .colab-df-container {\n",
              "      display:flex;\n",
              "      gap: 12px;\n",
              "    }\n",
              "\n",
              "    .colab-df-convert {\n",
              "      background-color: #E8F0FE;\n",
              "      border: none;\n",
              "      border-radius: 50%;\n",
              "      cursor: pointer;\n",
              "      display: none;\n",
              "      fill: #1967D2;\n",
              "      height: 32px;\n",
              "      padding: 0 0 0 0;\n",
              "      width: 32px;\n",
              "    }\n",
              "\n",
              "    .colab-df-convert:hover {\n",
              "      background-color: #E2EBFA;\n",
              "      box-shadow: 0px 1px 2px rgba(60, 64, 67, 0.3), 0px 1px 3px 1px rgba(60, 64, 67, 0.15);\n",
              "      fill: #174EA6;\n",
              "    }\n",
              "\n",
              "    .colab-df-buttons div {\n",
              "      margin-bottom: 4px;\n",
              "    }\n",
              "\n",
              "    [theme=dark] .colab-df-convert {\n",
              "      background-color: #3B4455;\n",
              "      fill: #D2E3FC;\n",
              "    }\n",
              "\n",
              "    [theme=dark] .colab-df-convert:hover {\n",
              "      background-color: #434B5C;\n",
              "      box-shadow: 0px 1px 3px 1px rgba(0, 0, 0, 0.15);\n",
              "      filter: drop-shadow(0px 1px 2px rgba(0, 0, 0, 0.3));\n",
              "      fill: #FFFFFF;\n",
              "    }\n",
              "  </style>\n",
              "\n",
              "    <script>\n",
              "      const buttonEl =\n",
              "        document.querySelector('#df-65526a52-7060-43c2-966c-7d84a61b6d93 button.colab-df-convert');\n",
              "      buttonEl.style.display =\n",
              "        google.colab.kernel.accessAllowed ? 'block' : 'none';\n",
              "\n",
              "      async function convertToInteractive(key) {\n",
              "        const element = document.querySelector('#df-65526a52-7060-43c2-966c-7d84a61b6d93');\n",
              "        const dataTable =\n",
              "          await google.colab.kernel.invokeFunction('convertToInteractive',\n",
              "                                                    [key], {});\n",
              "        if (!dataTable) return;\n",
              "\n",
              "        const docLinkHtml = 'Like what you see? Visit the ' +\n",
              "          '<a target=\"_blank\" href=https://colab.research.google.com/notebooks/data_table.ipynb>data table notebook</a>'\n",
              "          + ' to learn more about interactive tables.';\n",
              "        element.innerHTML = '';\n",
              "        dataTable['output_type'] = 'display_data';\n",
              "        await google.colab.output.renderOutput(dataTable, element);\n",
              "        const docLink = document.createElement('div');\n",
              "        docLink.innerHTML = docLinkHtml;\n",
              "        element.appendChild(docLink);\n",
              "      }\n",
              "    </script>\n",
              "  </div>\n",
              "\n",
              "\n",
              "<div id=\"df-7ee8d69a-75a0-40f2-b66e-a73db3e794c9\">\n",
              "  <button class=\"colab-df-quickchart\" onclick=\"quickchart('df-7ee8d69a-75a0-40f2-b66e-a73db3e794c9')\"\n",
              "            title=\"Suggest charts\"\n",
              "            style=\"display:none;\">\n",
              "\n",
              "<svg xmlns=\"http://www.w3.org/2000/svg\" height=\"24px\"viewBox=\"0 0 24 24\"\n",
              "     width=\"24px\">\n",
              "    <g>\n",
              "        <path d=\"M19 3H5c-1.1 0-2 .9-2 2v14c0 1.1.9 2 2 2h14c1.1 0 2-.9 2-2V5c0-1.1-.9-2-2-2zM9 17H7v-7h2v7zm4 0h-2V7h2v10zm4 0h-2v-4h2v4z\"/>\n",
              "    </g>\n",
              "</svg>\n",
              "  </button>\n",
              "\n",
              "<style>\n",
              "  .colab-df-quickchart {\n",
              "      --bg-color: #E8F0FE;\n",
              "      --fill-color: #1967D2;\n",
              "      --hover-bg-color: #E2EBFA;\n",
              "      --hover-fill-color: #174EA6;\n",
              "      --disabled-fill-color: #AAA;\n",
              "      --disabled-bg-color: #DDD;\n",
              "  }\n",
              "\n",
              "  [theme=dark] .colab-df-quickchart {\n",
              "      --bg-color: #3B4455;\n",
              "      --fill-color: #D2E3FC;\n",
              "      --hover-bg-color: #434B5C;\n",
              "      --hover-fill-color: #FFFFFF;\n",
              "      --disabled-bg-color: #3B4455;\n",
              "      --disabled-fill-color: #666;\n",
              "  }\n",
              "\n",
              "  .colab-df-quickchart {\n",
              "    background-color: var(--bg-color);\n",
              "    border: none;\n",
              "    border-radius: 50%;\n",
              "    cursor: pointer;\n",
              "    display: none;\n",
              "    fill: var(--fill-color);\n",
              "    height: 32px;\n",
              "    padding: 0;\n",
              "    width: 32px;\n",
              "  }\n",
              "\n",
              "  .colab-df-quickchart:hover {\n",
              "    background-color: var(--hover-bg-color);\n",
              "    box-shadow: 0 1px 2px rgba(60, 64, 67, 0.3), 0 1px 3px 1px rgba(60, 64, 67, 0.15);\n",
              "    fill: var(--button-hover-fill-color);\n",
              "  }\n",
              "\n",
              "  .colab-df-quickchart-complete:disabled,\n",
              "  .colab-df-quickchart-complete:disabled:hover {\n",
              "    background-color: var(--disabled-bg-color);\n",
              "    fill: var(--disabled-fill-color);\n",
              "    box-shadow: none;\n",
              "  }\n",
              "\n",
              "  .colab-df-spinner {\n",
              "    border: 2px solid var(--fill-color);\n",
              "    border-color: transparent;\n",
              "    border-bottom-color: var(--fill-color);\n",
              "    animation:\n",
              "      spin 1s steps(1) infinite;\n",
              "  }\n",
              "\n",
              "  @keyframes spin {\n",
              "    0% {\n",
              "      border-color: transparent;\n",
              "      border-bottom-color: var(--fill-color);\n",
              "      border-left-color: var(--fill-color);\n",
              "    }\n",
              "    20% {\n",
              "      border-color: transparent;\n",
              "      border-left-color: var(--fill-color);\n",
              "      border-top-color: var(--fill-color);\n",
              "    }\n",
              "    30% {\n",
              "      border-color: transparent;\n",
              "      border-left-color: var(--fill-color);\n",
              "      border-top-color: var(--fill-color);\n",
              "      border-right-color: var(--fill-color);\n",
              "    }\n",
              "    40% {\n",
              "      border-color: transparent;\n",
              "      border-right-color: var(--fill-color);\n",
              "      border-top-color: var(--fill-color);\n",
              "    }\n",
              "    60% {\n",
              "      border-color: transparent;\n",
              "      border-right-color: var(--fill-color);\n",
              "    }\n",
              "    80% {\n",
              "      border-color: transparent;\n",
              "      border-right-color: var(--fill-color);\n",
              "      border-bottom-color: var(--fill-color);\n",
              "    }\n",
              "    90% {\n",
              "      border-color: transparent;\n",
              "      border-bottom-color: var(--fill-color);\n",
              "    }\n",
              "  }\n",
              "</style>\n",
              "\n",
              "  <script>\n",
              "    async function quickchart(key) {\n",
              "      const quickchartButtonEl =\n",
              "        document.querySelector('#' + key + ' button');\n",
              "      quickchartButtonEl.disabled = true;  // To prevent multiple clicks.\n",
              "      quickchartButtonEl.classList.add('colab-df-spinner');\n",
              "      try {\n",
              "        const charts = await google.colab.kernel.invokeFunction(\n",
              "            'suggestCharts', [key], {});\n",
              "      } catch (error) {\n",
              "        console.error('Error during call to suggestCharts:', error);\n",
              "      }\n",
              "      quickchartButtonEl.classList.remove('colab-df-spinner');\n",
              "      quickchartButtonEl.classList.add('colab-df-quickchart-complete');\n",
              "    }\n",
              "    (() => {\n",
              "      let quickchartButtonEl =\n",
              "        document.querySelector('#df-7ee8d69a-75a0-40f2-b66e-a73db3e794c9 button');\n",
              "      quickchartButtonEl.style.display =\n",
              "        google.colab.kernel.accessAllowed ? 'block' : 'none';\n",
              "    })();\n",
              "  </script>\n",
              "</div>\n",
              "\n",
              "    </div>\n",
              "  </div>\n"
            ],
            "application/vnd.google.colaboratory.intrinsic+json": {
              "type": "dataframe",
              "variable_name": "calls",
              "summary": "{\n  \"name\": \"calls\",\n  \"rows\": 82,\n  \"fields\": [\n    {\n      \"column\": \"Contract Name\",\n      \"properties\": {\n        \"dtype\": \"string\",\n        \"num_unique_values\": 82,\n        \"samples\": [\n          \"MSFT250815C00375000\",\n          \"MSFT250815C00200000\",\n          \"MSFT250815C00335000\"\n        ],\n        \"semantic_type\": \"\",\n        \"description\": \"\"\n      }\n    },\n    {\n      \"column\": \"Last Trade Date (EST)\",\n      \"properties\": {\n        \"dtype\": \"object\",\n        \"num_unique_values\": 78,\n        \"samples\": [\n          \"2/25/2025 2:56 PM\",\n          \"2/24/2025 12:00 PM\",\n          \"2/25/2025 3:16 PM\"\n        ],\n        \"semantic_type\": \"\",\n        \"description\": \"\"\n      }\n    },\n    {\n      \"column\": \"Strike\",\n      \"properties\": {\n        \"dtype\": \"number\",\n        \"std\": 121,\n        \"min\": 200,\n        \"max\": 660,\n        \"num_unique_values\": 82,\n        \"samples\": [\n          375,\n          200,\n          335\n        ],\n        \"semantic_type\": \"\",\n        \"description\": \"\"\n      }\n    },\n    {\n      \"column\": \"Last Price\",\n      \"properties\": {\n        \"dtype\": \"number\",\n        \"std\": 65.68944265620607,\n        \"min\": 0.13,\n        \"max\": 224.43,\n        \"num_unique_values\": 81,\n        \"samples\": [\n          45.43,\n          207.54,\n          92.88\n        ],\n        \"semantic_type\": \"\",\n        \"description\": \"\"\n      }\n    },\n    {\n      \"column\": \"Bid\",\n      \"properties\": {\n        \"dtype\": \"number\",\n        \"std\": 56.9338761190539,\n        \"min\": 0.0,\n        \"max\": 228.6,\n        \"num_unique_values\": 81,\n        \"samples\": [\n          41.75,\n          200.3,\n          71.4\n        ],\n        \"semantic_type\": \"\",\n        \"description\": \"\"\n      }\n    },\n    {\n      \"column\": \"Ask\",\n      \"properties\": {\n        \"dtype\": \"number\",\n        \"std\": 57.7467220483737,\n        \"min\": 0.0,\n        \"max\": 231.55,\n        \"num_unique_values\": 81,\n        \"samples\": [\n          43.05,\n          203.4,\n          72.55\n        ],\n        \"semantic_type\": \"\",\n        \"description\": \"\"\n      }\n    },\n    {\n      \"column\": \"Change\",\n      \"properties\": {\n        \"dtype\": \"number\",\n        \"std\": 2.6408484836583255,\n        \"min\": -17.33,\n        \"max\": 0.35,\n        \"num_unique_values\": 46,\n        \"samples\": [\n          -1.04,\n          -1.19,\n          -1.2\n        ],\n        \"semantic_type\": \"\",\n        \"description\": \"\"\n      }\n    },\n    {\n      \"column\": \"% Change\",\n      \"properties\": {\n        \"dtype\": \"string\",\n        \"num_unique_values\": 47,\n        \"samples\": [\n          \"-12.23%\",\n          \"-9.56%\",\n          \"-15.29%\"\n        ],\n        \"semantic_type\": \"\",\n        \"description\": \"\"\n      }\n    },\n    {\n      \"column\": \"Volume\",\n      \"properties\": {\n        \"dtype\": \"string\",\n        \"num_unique_values\": 41,\n        \"samples\": [\n          \"54\",\n          \"3\",\n          \"68\"\n        ],\n        \"semantic_type\": \"\",\n        \"description\": \"\"\n      }\n    },\n    {\n      \"column\": \"Open Interest\",\n      \"properties\": {\n        \"dtype\": \"number\",\n        \"std\": 660,\n        \"min\": 1,\n        \"max\": 4693,\n        \"num_unique_values\": 73,\n        \"samples\": [\n          31,\n          99,\n          44\n        ],\n        \"semantic_type\": \"\",\n        \"description\": \"\"\n      }\n    },\n    {\n      \"column\": \"Implied Volatility\",\n      \"properties\": {\n        \"dtype\": \"string\",\n        \"num_unique_values\": 79,\n        \"samples\": [\n          \"31.45%\",\n          \"67.90%\",\n          \"36.42%\"\n        ],\n        \"semantic_type\": \"\",\n        \"description\": \"\"\n      }\n    }\n  ]\n}"
            }
          },
          "metadata": {},
          "execution_count": 29
        }
      ]
    },
    {
      "cell_type": "code",
      "source": [
        "calls.describe()"
      ],
      "metadata": {
        "colab": {
          "base_uri": "https://localhost:8080/",
          "height": 300
        },
        "id": "501-0MgGnj9A",
        "outputId": "0efd5eaa-fe45-4bb1-c593-15dd692b0c85"
      },
      "execution_count": 30,
      "outputs": [
        {
          "output_type": "execute_result",
          "data": {
            "text/plain": [
              "           Strike  Last Price         Bid         Ask     Change  \\\n",
              "count   82.000000   82.000000   82.000000   82.000000  82.000000   \n",
              "mean   426.890244   52.629756   43.775244   44.961585  -1.313049   \n",
              "std    121.978647   65.689443   56.933876   57.746722   2.640848   \n",
              "min    200.000000    0.130000    0.000000    0.000000 -17.330000   \n",
              "25%    326.250000    1.620000    1.177500    1.362500  -1.575000   \n",
              "50%    427.500000   17.760000   14.300000   16.350000  -0.170000   \n",
              "75%    528.750000   92.310000   74.025000   75.475000   0.000000   \n",
              "max    660.000000  224.430000  228.600000  231.550000   0.350000   \n",
              "\n",
              "       Open Interest  \n",
              "count      82.000000  \n",
              "mean      354.000000  \n",
              "std       660.509941  \n",
              "min         1.000000  \n",
              "25%        44.250000  \n",
              "50%       123.000000  \n",
              "75%       414.750000  \n",
              "max      4693.000000  "
            ],
            "text/html": [
              "\n",
              "  <div id=\"df-eee88223-2c19-4385-a696-3580fa4e2706\" class=\"colab-df-container\">\n",
              "    <div>\n",
              "<style scoped>\n",
              "    .dataframe tbody tr th:only-of-type {\n",
              "        vertical-align: middle;\n",
              "    }\n",
              "\n",
              "    .dataframe tbody tr th {\n",
              "        vertical-align: top;\n",
              "    }\n",
              "\n",
              "    .dataframe thead th {\n",
              "        text-align: right;\n",
              "    }\n",
              "</style>\n",
              "<table border=\"1\" class=\"dataframe\">\n",
              "  <thead>\n",
              "    <tr style=\"text-align: right;\">\n",
              "      <th></th>\n",
              "      <th>Strike</th>\n",
              "      <th>Last Price</th>\n",
              "      <th>Bid</th>\n",
              "      <th>Ask</th>\n",
              "      <th>Change</th>\n",
              "      <th>Open Interest</th>\n",
              "    </tr>\n",
              "  </thead>\n",
              "  <tbody>\n",
              "    <tr>\n",
              "      <th>count</th>\n",
              "      <td>82.000000</td>\n",
              "      <td>82.000000</td>\n",
              "      <td>82.000000</td>\n",
              "      <td>82.000000</td>\n",
              "      <td>82.000000</td>\n",
              "      <td>82.000000</td>\n",
              "    </tr>\n",
              "    <tr>\n",
              "      <th>mean</th>\n",
              "      <td>426.890244</td>\n",
              "      <td>52.629756</td>\n",
              "      <td>43.775244</td>\n",
              "      <td>44.961585</td>\n",
              "      <td>-1.313049</td>\n",
              "      <td>354.000000</td>\n",
              "    </tr>\n",
              "    <tr>\n",
              "      <th>std</th>\n",
              "      <td>121.978647</td>\n",
              "      <td>65.689443</td>\n",
              "      <td>56.933876</td>\n",
              "      <td>57.746722</td>\n",
              "      <td>2.640848</td>\n",
              "      <td>660.509941</td>\n",
              "    </tr>\n",
              "    <tr>\n",
              "      <th>min</th>\n",
              "      <td>200.000000</td>\n",
              "      <td>0.130000</td>\n",
              "      <td>0.000000</td>\n",
              "      <td>0.000000</td>\n",
              "      <td>-17.330000</td>\n",
              "      <td>1.000000</td>\n",
              "    </tr>\n",
              "    <tr>\n",
              "      <th>25%</th>\n",
              "      <td>326.250000</td>\n",
              "      <td>1.620000</td>\n",
              "      <td>1.177500</td>\n",
              "      <td>1.362500</td>\n",
              "      <td>-1.575000</td>\n",
              "      <td>44.250000</td>\n",
              "    </tr>\n",
              "    <tr>\n",
              "      <th>50%</th>\n",
              "      <td>427.500000</td>\n",
              "      <td>17.760000</td>\n",
              "      <td>14.300000</td>\n",
              "      <td>16.350000</td>\n",
              "      <td>-0.170000</td>\n",
              "      <td>123.000000</td>\n",
              "    </tr>\n",
              "    <tr>\n",
              "      <th>75%</th>\n",
              "      <td>528.750000</td>\n",
              "      <td>92.310000</td>\n",
              "      <td>74.025000</td>\n",
              "      <td>75.475000</td>\n",
              "      <td>0.000000</td>\n",
              "      <td>414.750000</td>\n",
              "    </tr>\n",
              "    <tr>\n",
              "      <th>max</th>\n",
              "      <td>660.000000</td>\n",
              "      <td>224.430000</td>\n",
              "      <td>228.600000</td>\n",
              "      <td>231.550000</td>\n",
              "      <td>0.350000</td>\n",
              "      <td>4693.000000</td>\n",
              "    </tr>\n",
              "  </tbody>\n",
              "</table>\n",
              "</div>\n",
              "    <div class=\"colab-df-buttons\">\n",
              "\n",
              "  <div class=\"colab-df-container\">\n",
              "    <button class=\"colab-df-convert\" onclick=\"convertToInteractive('df-eee88223-2c19-4385-a696-3580fa4e2706')\"\n",
              "            title=\"Convert this dataframe to an interactive table.\"\n",
              "            style=\"display:none;\">\n",
              "\n",
              "  <svg xmlns=\"http://www.w3.org/2000/svg\" height=\"24px\" viewBox=\"0 -960 960 960\">\n",
              "    <path d=\"M120-120v-720h720v720H120Zm60-500h600v-160H180v160Zm220 220h160v-160H400v160Zm0 220h160v-160H400v160ZM180-400h160v-160H180v160Zm440 0h160v-160H620v160ZM180-180h160v-160H180v160Zm440 0h160v-160H620v160Z\"/>\n",
              "  </svg>\n",
              "    </button>\n",
              "\n",
              "  <style>\n",
              "    .colab-df-container {\n",
              "      display:flex;\n",
              "      gap: 12px;\n",
              "    }\n",
              "\n",
              "    .colab-df-convert {\n",
              "      background-color: #E8F0FE;\n",
              "      border: none;\n",
              "      border-radius: 50%;\n",
              "      cursor: pointer;\n",
              "      display: none;\n",
              "      fill: #1967D2;\n",
              "      height: 32px;\n",
              "      padding: 0 0 0 0;\n",
              "      width: 32px;\n",
              "    }\n",
              "\n",
              "    .colab-df-convert:hover {\n",
              "      background-color: #E2EBFA;\n",
              "      box-shadow: 0px 1px 2px rgba(60, 64, 67, 0.3), 0px 1px 3px 1px rgba(60, 64, 67, 0.15);\n",
              "      fill: #174EA6;\n",
              "    }\n",
              "\n",
              "    .colab-df-buttons div {\n",
              "      margin-bottom: 4px;\n",
              "    }\n",
              "\n",
              "    [theme=dark] .colab-df-convert {\n",
              "      background-color: #3B4455;\n",
              "      fill: #D2E3FC;\n",
              "    }\n",
              "\n",
              "    [theme=dark] .colab-df-convert:hover {\n",
              "      background-color: #434B5C;\n",
              "      box-shadow: 0px 1px 3px 1px rgba(0, 0, 0, 0.15);\n",
              "      filter: drop-shadow(0px 1px 2px rgba(0, 0, 0, 0.3));\n",
              "      fill: #FFFFFF;\n",
              "    }\n",
              "  </style>\n",
              "\n",
              "    <script>\n",
              "      const buttonEl =\n",
              "        document.querySelector('#df-eee88223-2c19-4385-a696-3580fa4e2706 button.colab-df-convert');\n",
              "      buttonEl.style.display =\n",
              "        google.colab.kernel.accessAllowed ? 'block' : 'none';\n",
              "\n",
              "      async function convertToInteractive(key) {\n",
              "        const element = document.querySelector('#df-eee88223-2c19-4385-a696-3580fa4e2706');\n",
              "        const dataTable =\n",
              "          await google.colab.kernel.invokeFunction('convertToInteractive',\n",
              "                                                    [key], {});\n",
              "        if (!dataTable) return;\n",
              "\n",
              "        const docLinkHtml = 'Like what you see? Visit the ' +\n",
              "          '<a target=\"_blank\" href=https://colab.research.google.com/notebooks/data_table.ipynb>data table notebook</a>'\n",
              "          + ' to learn more about interactive tables.';\n",
              "        element.innerHTML = '';\n",
              "        dataTable['output_type'] = 'display_data';\n",
              "        await google.colab.output.renderOutput(dataTable, element);\n",
              "        const docLink = document.createElement('div');\n",
              "        docLink.innerHTML = docLinkHtml;\n",
              "        element.appendChild(docLink);\n",
              "      }\n",
              "    </script>\n",
              "  </div>\n",
              "\n",
              "\n",
              "<div id=\"df-236b53eb-710e-4ae7-ba40-5caebe84ce36\">\n",
              "  <button class=\"colab-df-quickchart\" onclick=\"quickchart('df-236b53eb-710e-4ae7-ba40-5caebe84ce36')\"\n",
              "            title=\"Suggest charts\"\n",
              "            style=\"display:none;\">\n",
              "\n",
              "<svg xmlns=\"http://www.w3.org/2000/svg\" height=\"24px\"viewBox=\"0 0 24 24\"\n",
              "     width=\"24px\">\n",
              "    <g>\n",
              "        <path d=\"M19 3H5c-1.1 0-2 .9-2 2v14c0 1.1.9 2 2 2h14c1.1 0 2-.9 2-2V5c0-1.1-.9-2-2-2zM9 17H7v-7h2v7zm4 0h-2V7h2v10zm4 0h-2v-4h2v4z\"/>\n",
              "    </g>\n",
              "</svg>\n",
              "  </button>\n",
              "\n",
              "<style>\n",
              "  .colab-df-quickchart {\n",
              "      --bg-color: #E8F0FE;\n",
              "      --fill-color: #1967D2;\n",
              "      --hover-bg-color: #E2EBFA;\n",
              "      --hover-fill-color: #174EA6;\n",
              "      --disabled-fill-color: #AAA;\n",
              "      --disabled-bg-color: #DDD;\n",
              "  }\n",
              "\n",
              "  [theme=dark] .colab-df-quickchart {\n",
              "      --bg-color: #3B4455;\n",
              "      --fill-color: #D2E3FC;\n",
              "      --hover-bg-color: #434B5C;\n",
              "      --hover-fill-color: #FFFFFF;\n",
              "      --disabled-bg-color: #3B4455;\n",
              "      --disabled-fill-color: #666;\n",
              "  }\n",
              "\n",
              "  .colab-df-quickchart {\n",
              "    background-color: var(--bg-color);\n",
              "    border: none;\n",
              "    border-radius: 50%;\n",
              "    cursor: pointer;\n",
              "    display: none;\n",
              "    fill: var(--fill-color);\n",
              "    height: 32px;\n",
              "    padding: 0;\n",
              "    width: 32px;\n",
              "  }\n",
              "\n",
              "  .colab-df-quickchart:hover {\n",
              "    background-color: var(--hover-bg-color);\n",
              "    box-shadow: 0 1px 2px rgba(60, 64, 67, 0.3), 0 1px 3px 1px rgba(60, 64, 67, 0.15);\n",
              "    fill: var(--button-hover-fill-color);\n",
              "  }\n",
              "\n",
              "  .colab-df-quickchart-complete:disabled,\n",
              "  .colab-df-quickchart-complete:disabled:hover {\n",
              "    background-color: var(--disabled-bg-color);\n",
              "    fill: var(--disabled-fill-color);\n",
              "    box-shadow: none;\n",
              "  }\n",
              "\n",
              "  .colab-df-spinner {\n",
              "    border: 2px solid var(--fill-color);\n",
              "    border-color: transparent;\n",
              "    border-bottom-color: var(--fill-color);\n",
              "    animation:\n",
              "      spin 1s steps(1) infinite;\n",
              "  }\n",
              "\n",
              "  @keyframes spin {\n",
              "    0% {\n",
              "      border-color: transparent;\n",
              "      border-bottom-color: var(--fill-color);\n",
              "      border-left-color: var(--fill-color);\n",
              "    }\n",
              "    20% {\n",
              "      border-color: transparent;\n",
              "      border-left-color: var(--fill-color);\n",
              "      border-top-color: var(--fill-color);\n",
              "    }\n",
              "    30% {\n",
              "      border-color: transparent;\n",
              "      border-left-color: var(--fill-color);\n",
              "      border-top-color: var(--fill-color);\n",
              "      border-right-color: var(--fill-color);\n",
              "    }\n",
              "    40% {\n",
              "      border-color: transparent;\n",
              "      border-right-color: var(--fill-color);\n",
              "      border-top-color: var(--fill-color);\n",
              "    }\n",
              "    60% {\n",
              "      border-color: transparent;\n",
              "      border-right-color: var(--fill-color);\n",
              "    }\n",
              "    80% {\n",
              "      border-color: transparent;\n",
              "      border-right-color: var(--fill-color);\n",
              "      border-bottom-color: var(--fill-color);\n",
              "    }\n",
              "    90% {\n",
              "      border-color: transparent;\n",
              "      border-bottom-color: var(--fill-color);\n",
              "    }\n",
              "  }\n",
              "</style>\n",
              "\n",
              "  <script>\n",
              "    async function quickchart(key) {\n",
              "      const quickchartButtonEl =\n",
              "        document.querySelector('#' + key + ' button');\n",
              "      quickchartButtonEl.disabled = true;  // To prevent multiple clicks.\n",
              "      quickchartButtonEl.classList.add('colab-df-spinner');\n",
              "      try {\n",
              "        const charts = await google.colab.kernel.invokeFunction(\n",
              "            'suggestCharts', [key], {});\n",
              "      } catch (error) {\n",
              "        console.error('Error during call to suggestCharts:', error);\n",
              "      }\n",
              "      quickchartButtonEl.classList.remove('colab-df-spinner');\n",
              "      quickchartButtonEl.classList.add('colab-df-quickchart-complete');\n",
              "    }\n",
              "    (() => {\n",
              "      let quickchartButtonEl =\n",
              "        document.querySelector('#df-236b53eb-710e-4ae7-ba40-5caebe84ce36 button');\n",
              "      quickchartButtonEl.style.display =\n",
              "        google.colab.kernel.accessAllowed ? 'block' : 'none';\n",
              "    })();\n",
              "  </script>\n",
              "</div>\n",
              "\n",
              "    </div>\n",
              "  </div>\n"
            ],
            "application/vnd.google.colaboratory.intrinsic+json": {
              "type": "dataframe",
              "summary": "{\n  \"name\": \"calls\",\n  \"rows\": 8,\n  \"fields\": [\n    {\n      \"column\": \"Strike\",\n      \"properties\": {\n        \"dtype\": \"number\",\n        \"std\": 202.4009705393314,\n        \"min\": 82.0,\n        \"max\": 660.0,\n        \"num_unique_values\": 8,\n        \"samples\": [\n          426.890243902439,\n          427.5,\n          82.0\n        ],\n        \"semantic_type\": \"\",\n        \"description\": \"\"\n      }\n    },\n    {\n      \"column\": \"Last Price\",\n      \"properties\": {\n        \"dtype\": \"number\",\n        \"std\": 72.73111033306596,\n        \"min\": 0.13,\n        \"max\": 224.43,\n        \"num_unique_values\": 8,\n        \"samples\": [\n          52.62975609756098,\n          17.759999999999998,\n          82.0\n        ],\n        \"semantic_type\": \"\",\n        \"description\": \"\"\n      }\n    },\n    {\n      \"column\": \"Bid\",\n      \"properties\": {\n        \"dtype\": \"number\",\n        \"std\": 74.13668892789356,\n        \"min\": 0.0,\n        \"max\": 228.6,\n        \"num_unique_values\": 8,\n        \"samples\": [\n          43.77524390243903,\n          14.3,\n          82.0\n        ],\n        \"semantic_type\": \"\",\n        \"description\": \"\"\n      }\n    },\n    {\n      \"column\": \"Ask\",\n      \"properties\": {\n        \"dtype\": \"number\",\n        \"std\": 74.851668805427,\n        \"min\": 0.0,\n        \"max\": 231.55,\n        \"num_unique_values\": 8,\n        \"samples\": [\n          44.96158536585365,\n          16.35,\n          82.0\n        ],\n        \"semantic_type\": \"\",\n        \"description\": \"\"\n      }\n    },\n    {\n      \"column\": \"Change\",\n      \"properties\": {\n        \"dtype\": \"number\",\n        \"std\": 30.505196013203076,\n        \"min\": -17.33,\n        \"max\": 82.0,\n        \"num_unique_values\": 8,\n        \"samples\": [\n          -1.3130487804878048,\n          -0.16999999999999998,\n          82.0\n        ],\n        \"semantic_type\": \"\",\n        \"description\": \"\"\n      }\n    },\n    {\n      \"column\": \"Open Interest\",\n      \"properties\": {\n        \"dtype\": \"number\",\n        \"std\": 1590.3978674949446,\n        \"min\": 1.0,\n        \"max\": 4693.0,\n        \"num_unique_values\": 8,\n        \"samples\": [\n          354.0,\n          123.0,\n          82.0\n        ],\n        \"semantic_type\": \"\",\n        \"description\": \"\"\n      }\n    }\n  ]\n}"
            }
          },
          "metadata": {},
          "execution_count": 30
        }
      ]
    },
    {
      "cell_type": "code",
      "source": [
        "calls[\"Implied Volatility\"] = calls[\"Implied Volatility\"].str[:-1].astype(float)\n",
        "calls = calls[calls[\"Implied Volatility\"] != 0]"
      ],
      "metadata": {
        "id": "iSHE0Msjm7GE"
      },
      "execution_count": 31,
      "outputs": []
    },
    {
      "cell_type": "markdown",
      "source": [
        "We first calculate the price of a call option on Microsoft stock expiring on 2025-08-15, using the median strike price and volatility from the calls dataset. Before proceeding, we define the following variables:"
      ],
      "metadata": {
        "id": "Oe7qWsk8svUO"
      }
    },
    {
      "cell_type": "markdown",
      "source": [
        "- K: Strike price in US dollars\n",
        "- S: Stock price in US dollars\n",
        "- T: Time to expiration in number of years\n",
        "- r: Risk-free rate (based on current yield on 6 month trasury bill)\n",
        "- v: Volatility\n",
        "- F: Price of option"
      ],
      "metadata": {
        "id": "t3X83E3AiQDp"
      }
    },
    {
      "cell_type": "code",
      "source": [
        "strike_price = calls[\"Strike\"].median()\n",
        "imp_vol = calls[\"Implied Volatility\"].median()\n",
        "print(f\"strike_price = {strike_price}, imp_vol ={imp_vol}\")"
      ],
      "metadata": {
        "colab": {
          "base_uri": "https://localhost:8080/"
        },
        "id": "pJh-3sZj1kpD",
        "outputId": "b43e1d62-e56e-4e8f-88cb-c65a8fd029fd"
      },
      "execution_count": 32,
      "outputs": [
        {
          "output_type": "stream",
          "name": "stdout",
          "text": [
            "strike_price = 432.5, imp_vol =28.345\n"
          ]
        }
      ]
    },
    {
      "cell_type": "code",
      "source": [
        "S = 408.43\t# closing Microsoft stock price on Feb 14\n",
        "K = strike_price\n",
        "T = 0.5 # 6 months\n",
        "r = 0.0434 # current yield on 6 month treasury bill (4.34%)\n",
        "v = imp_vol/100"
      ],
      "metadata": {
        "id": "6UEoHCMCdVsX"
      },
      "execution_count": 33,
      "outputs": []
    },
    {
      "cell_type": "markdown",
      "source": [
        "## Formula for Call Options:\n",
        "$$d_1 = \\frac{1}{v \\cdot \\sqrt{T}} \\cdot \\left[ln\\left(\\frac{S}{K}\\right) + \\left(r + \\frac{1}{2}v^2\\right) \\cdot T\\right]$$\n",
        "\n",
        "$$d_2 = d_1 - v \\cdot \\sqrt{T}$$\n",
        "\n",
        "$$F =  S \\cdot N[d_1] - e^{−rT} \\cdot K \\cdot N[d_2]$$"
      ],
      "metadata": {
        "id": "MRoL5kwagmOO"
      }
    },
    {
      "cell_type": "code",
      "source": [
        "def calc_call_option_price(S, K, T, r, v):\n",
        "  d1 = (math.log(S/K) + (r + 0.5 * v**2) * T) / (v * math.sqrt(T))\n",
        "  d2 = d1 - v * math.sqrt(T)\n",
        "  F = S * norm.cdf(d1) - math.exp(-r * T) * K * norm.cdf(d2)\n",
        "  return F"
      ],
      "metadata": {
        "id": "2MI8wHNifwQF"
      },
      "execution_count": 34,
      "outputs": []
    },
    {
      "cell_type": "code",
      "source": [
        "calc_call_option_price(S, K, T, r, v)"
      ],
      "metadata": {
        "colab": {
          "base_uri": "https://localhost:8080/"
        },
        "id": "EG9WuPQUiFKH",
        "outputId": "7ed7955f-457f-4c5b-9a5c-0f5d73c00dd7"
      },
      "execution_count": 35,
      "outputs": [
        {
          "output_type": "execute_result",
          "data": {
            "text/plain": [
              "26.319912180210878"
            ]
          },
          "metadata": {},
          "execution_count": 35
        }
      ]
    },
    {
      "cell_type": "markdown",
      "source": [
        "Next, we compute the theoretical price for each option in the calls dataset and add it as a new column."
      ],
      "metadata": {
        "id": "ZmzJq5wctAED"
      }
    },
    {
      "cell_type": "code",
      "source": [
        "calls[\"Theoretical Price\"] = calls.apply(\n",
        "    lambda row: calc_call_option_price(S, row[\"Strike\"], T, r, row[\"Implied Volatility\"]/100),\n",
        "    axis=1\n",
        ")"
      ],
      "metadata": {
        "id": "Bx5C-jx6tEwe"
      },
      "execution_count": 36,
      "outputs": []
    },
    {
      "cell_type": "code",
      "source": [
        "fig, axs = plt.subplots(1, 2, figsize=(14, 6))\n",
        "\n",
        "sns.lineplot(x=\"Implied Volatility\", y=\"Theoretical Price\", data=calls, ax=axs[0])\n",
        "axs[0].set_title(\"Line Plot of Implied Volatility vs Theoretical Call Option Prices\")\n",
        "\n",
        "sns.scatterplot(x=\"Implied Volatility\", y=\"Theoretical Price\", data=calls, ax=axs[1])\n",
        "axs[1].set_title(\"Scatterplot of Implied Volatility vs Theoretical Call Option Prices\")"
      ],
      "metadata": {
        "colab": {
          "base_uri": "https://localhost:8080/",
          "height": 582
        },
        "id": "hIB0oDHXvMGW",
        "outputId": "394a7999-f036-4e0c-92e0-f7e6506cd0cb"
      },
      "execution_count": 37,
      "outputs": [
        {
          "output_type": "execute_result",
          "data": {
            "text/plain": [
              "Text(0.5, 1.0, 'Scatterplot of Implied Volatility vs Theoretical Call Option Prices')"
            ]
          },
          "metadata": {},
          "execution_count": 37
        },
        {
          "output_type": "display_data",
          "data": {
            "text/plain": [
              "<Figure size 1400x600 with 2 Axes>"
            ],
            "image/png": "[encoded data removed]"
          },
          "metadata": {}
        }
      ]
    },
    {
      "cell_type": "code",
      "source": [
        "sns.scatterplot(x=\"Strike\", y=\"Implied Volatility\", data=calls)"
      ],
      "metadata": {
        "colab": {
          "base_uri": "https://localhost:8080/",
          "height": 467
        },
        "id": "4s3MYjCBkqFo",
        "outputId": "9cc9fac7-bbc8-4da9-cd5d-6ceeb0c009d8"
      },
      "execution_count": 47,
      "outputs": [
        {
          "output_type": "execute_result",
          "data": {
            "text/plain": [
              "<Axes: xlabel='Strike', ylabel='Implied Volatility'>"
            ]
          },
          "metadata": {},
          "execution_count": 47
        },
        {
          "output_type": "display_data",
          "data": {
            "text/plain": [
              "<Figure size 640x480 with 1 Axes>"
            ],
            "image/png": "[encoded data removed]"
          },
          "metadata": {}
        }
      ]
    },
    {
      "cell_type": "markdown",
      "source": [
        "## Pricing Put Options"
      ],
      "metadata": {
        "id": "jH_BXu490U0Q"
      }
    },
    {
      "cell_type": "code",
      "source": [
        "put_options = options.get_puts(\"MSFT\", \"2025-08-15\")"
      ],
      "metadata": {
        "colab": {
          "base_uri": "https://localhost:8080/"
        },
        "id": "bLoAZSW60UJ4",
        "outputId": "360a0676-4b16-43b2-8213-3cfa2ae2d8d7"
      },
      "execution_count": 39,
      "outputs": [
        {
          "output_type": "stream",
          "name": "stderr",
          "text": [
            "/usr/local/lib/python3.11/dist-packages/yahoo_fin/options.py:42: FutureWarning: Passing literal html to 'read_html' is deprecated and will be removed in a future version. To read from a literal string, wrap it in a 'StringIO' object.\n",
            "  tables = pd.read_html(requests.get(site, headers=headers).text)\n"
          ]
        }
      ]
    },
    {
      "cell_type": "code",
      "source": [
        "df2 = pd.DataFrame(put_options)\n",
        "df2.to_csv('put_options.csv', index=False)"
      ],
      "metadata": {
        "id": "Fbht9tziajGK"
      },
      "execution_count": 40,
      "outputs": []
    },
    {
      "cell_type": "code",
      "source": [
        "puts = df2.copy()"
      ],
      "metadata": {
        "id": "H45fojiZa8_B"
      },
      "execution_count": 41,
      "outputs": []
    },
    {
      "cell_type": "code",
      "source": [
        "puts[\"Implied Volatility\"] = puts[\"Implied Volatility\"].str[:-1].astype(float)\n",
        "puts = puts[puts[\"Implied Volatility\"] != 0]"
      ],
      "metadata": {
        "id": "iUMzR-sIavWB"
      },
      "execution_count": 42,
      "outputs": []
    },
    {
      "cell_type": "markdown",
      "source": [
        "## Formula for Put Options:\n",
        "$$F = e^{−r(T −t)} \\cdot K \\cdot N[d_2] - S \\cdot N[d_1]$$"
      ],
      "metadata": {
        "id": "HcobKhprfXy7"
      }
    },
    {
      "cell_type": "code",
      "source": [
        "def calc_put_option_price(S, K, T, r, v):\n",
        "  d1 = (math.log(S/K) + (r + 0.5 * v**2) * T) / (v * math.sqrt(T))\n",
        "  d2 = d1 - v * math.sqrt(T)\n",
        "  F = math.exp(-r * T) * K * norm.cdf(-d2) - S * norm.cdf(-d1)\n",
        "  return F"
      ],
      "metadata": {
        "id": "wNPXd5uJsj1g"
      },
      "execution_count": 43,
      "outputs": []
    },
    {
      "cell_type": "code",
      "source": [
        "puts[\"Theoretical Price\"] = puts.apply(\n",
        "    lambda row: calc_put_option_price(S, row[\"Strike\"], T, r, row[\"Implied Volatility\"]/100),\n",
        "    axis=1\n",
        ")"
      ],
      "metadata": {
        "id": "bhnBrK0-bIi6"
      },
      "execution_count": 44,
      "outputs": []
    },
    {
      "cell_type": "code",
      "source": [
        "fig, axs = plt.subplots(1, 2, figsize=(14, 6))\n",
        "\n",
        "sns.lineplot(x=\"Implied Volatility\", y=\"Theoretical Price\", data=puts, ax=axs[0])\n",
        "axs[0].set_title(\"Line Plot of Implied Volatility vs Theoretical Put Option Prices\")\n",
        "\n",
        "sns.scatterplot(x=\"Implied Volatility\", y=\"Theoretical Price\", data=puts, ax=axs[1])\n",
        "axs[1].set_title(\"Scatterplot of Implied Volatility vs Theoretical Put Option Prices\")"
      ],
      "metadata": {
        "colab": {
          "base_uri": "https://localhost:8080/",
          "height": 582
        },
        "id": "6NXYr_4ebRSX",
        "outputId": "273f9149-bbfa-428a-b1d1-018eaaab5c66"
      },
      "execution_count": 45,
      "outputs": [
        {
          "output_type": "execute_result",
          "data": {
            "text/plain": [
              "Text(0.5, 1.0, 'Scatterplot of Implied Volatility vs Theoretical Put Option Prices')"
            ]
          },
          "metadata": {},
          "execution_count": 45
        },
        {
          "output_type": "display_data",
          "data": {
            "text/plain": [
              "<Figure size 1400x600 with 2 Axes>"
            ],
            "image/png": "[encoded data removed]"
          },
          "metadata": {}
        }
      ]
    },
    {
      "cell_type": "markdown",
      "source": [
        "## Further Exploration\n",
        "1. Does call-put parity hold in real-world markets, and what factors may cause this theoretical model to not hold?\n",
        "2. Does the volatility smile exist in real-world markets, and how does its curviness change with different times to expiration? Under what market conditions is the volatility smile most pronounced?\n",
        "3. How would the stocks be priced using risk-neutral valuation, and how does it differ from its actual market price?\n",
        "4. What is the estimated drift of the stock, and how does it compare to the risk-free interest rate?\n",
        "\n",
        "\n",
        "\n",
        "\n",
        "\n",
        "\n",
        "\n",
        "\n",
        "\n",
        "\n",
        "\n",
        "\n",
        "\n"
      ],
      "metadata": {
        "id": "EMzWuRXXlkpB"
      }
    }
  ],
  "metadata": {
    "colab": {
      "provenance": [],
      "include_colab_link": true
    },
    "kernelspec": {
      "display_name": "Python 3",
      "name": "python3"
    }
  },
  "nbformat": 4,
  "nbformat_minor": 0
}