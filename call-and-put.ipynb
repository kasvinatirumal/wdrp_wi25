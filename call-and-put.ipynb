{
  "cells": [
    {
      "cell_type": "markdown",
      "metadata": {
        "id": "Wf5KrEb6vrkR"
      },
      "source": [
        "### Pricing Call and Put Options with an S&P 500 Stock as an underlying asset"
      ]
    },
    {
      "cell_type": "code",
      "source": [
        "import math\n",
        "from scipy import norm"
      ],
      "metadata": {
        "id": "EEszutnWZrHt"
      },
      "execution_count": null,
      "outputs": []
    },
    {
      "cell_type": "markdown",
      "source": [],
      "metadata": {
        "id": "rbavhA8pZ40n"
      }
    }
  ],
  "metadata": {
    "colab": {
      "name": "Welcome To Colab",
      "provenance": []
    },
    "kernelspec": {
      "display_name": "Python 3",
      "name": "python3"
    }
  },
  "nbformat": 4,
  "nbformat_minor": 0
}