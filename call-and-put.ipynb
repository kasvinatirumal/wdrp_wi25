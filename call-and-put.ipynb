{
  "cells": [
    {
      "cell_type": "markdown",
      "metadata": {
        "id": "Wf5KrEb6vrkR"
      },
      "source": [
        "# Pricing Call and Put Options for Microsoft Stock using the Black-Scholes Model"
      ]
    },
    {
      "cell_type": "code",
      "source": [
        "pip install yahoo_fin"
      ],
      "metadata": {
        "id": "hflfnwd0MSFH",
        "outputId": "025eeee9-4000-49a9-9e0b-6f7a9ac90698",
        "colab": {
          "base_uri": "https://localhost:8080/"
        }
      },
      "execution_count": 4,
      "outputs": [
        {
          "output_type": "stream",
          "name": "stdout",
          "text": [
            "Collecting yahoo_fin\n",
            "  Downloading yahoo_fin-0.8.9.1-py3-none-any.whl.metadata (699 bytes)\n",
            "Collecting requests-html (from yahoo_fin)\n",
            "  Downloading requests_html-0.10.0-py3-none-any.whl.metadata (15 kB)\n",
            "Collecting feedparser (from yahoo_fin)\n",
            "  Downloading feedparser-6.0.11-py3-none-any.whl.metadata (2.4 kB)\n",
            "Requirement already satisfied: requests in /usr/local/lib/python3.11/dist-packages (from yahoo_fin) (2.32.3)\n",
            "Requirement already satisfied: pandas in /usr/local/lib/python3.11/dist-packages (from yahoo_fin) (2.2.2)\n",
            "Collecting sgmllib3k (from feedparser->yahoo_fin)\n",
            "  Downloading sgmllib3k-1.0.0.tar.gz (5.8 kB)\n",
            "  Preparing metadata (setup.py) ... \u001b[?25l\u001b[?25hdone\n",
            "Requirement already satisfied: numpy>=1.23.2 in /usr/local/lib/python3.11/dist-packages (from pandas->yahoo_fin) (1.26.4)\n",
            "Requirement already satisfied: python-dateutil>=2.8.2 in /usr/local/lib/python3.11/dist-packages (from pandas->yahoo_fin) (2.8.2)\n",
            "Requirement already satisfied: pytz>=2020.1 in /usr/local/lib/python3.11/dist-packages (from pandas->yahoo_fin) (2025.1)\n",
            "Requirement already satisfied: tzdata>=2022.7 in /usr/local/lib/python3.11/dist-packages (from pandas->yahoo_fin) (2025.1)\n",
            "Requirement already satisfied: charset-normalizer<4,>=2 in /usr/local/lib/python3.11/dist-packages (from requests->yahoo_fin) (3.4.1)\n",
            "Requirement already satisfied: idna<4,>=2.5 in /usr/local/lib/python3.11/dist-packages (from requests->yahoo_fin) (3.10)\n",
            "Requirement already satisfied: urllib3<3,>=1.21.1 in /usr/local/lib/python3.11/dist-packages (from requests->yahoo_fin) (2.3.0)\n",
            "Requirement already satisfied: certifi>=2017.4.17 in /usr/local/lib/python3.11/dist-packages (from requests->yahoo_fin) (2025.1.31)\n",
            "Collecting pyquery (from requests-html->yahoo_fin)\n",
            "  Downloading pyquery-2.0.1-py3-none-any.whl.metadata (9.0 kB)\n",
            "Collecting fake-useragent (from requests-html->yahoo_fin)\n",
            "  Downloading fake_useragent-2.0.3-py3-none-any.whl.metadata (17 kB)\n",
            "Collecting parse (from requests-html->yahoo_fin)\n",
            "  Downloading parse-1.20.2-py2.py3-none-any.whl.metadata (22 kB)\n",
            "Collecting bs4 (from requests-html->yahoo_fin)\n",
            "  Downloading bs4-0.0.2-py2.py3-none-any.whl.metadata (411 bytes)\n",
            "Collecting w3lib (from requests-html->yahoo_fin)\n",
            "  Downloading w3lib-2.3.1-py3-none-any.whl.metadata (2.3 kB)\n",
            "Collecting pyppeteer>=0.0.14 (from requests-html->yahoo_fin)\n",
            "  Downloading pyppeteer-2.0.0-py3-none-any.whl.metadata (7.1 kB)\n",
            "Collecting appdirs<2.0.0,>=1.4.3 (from pyppeteer>=0.0.14->requests-html->yahoo_fin)\n",
            "  Downloading appdirs-1.4.4-py2.py3-none-any.whl.metadata (9.0 kB)\n",
            "Requirement already satisfied: importlib-metadata>=1.4 in /usr/local/lib/python3.11/dist-packages (from pyppeteer>=0.0.14->requests-html->yahoo_fin) (8.6.1)\n",
            "Collecting pyee<12.0.0,>=11.0.0 (from pyppeteer>=0.0.14->requests-html->yahoo_fin)\n",
            "  Downloading pyee-11.1.1-py3-none-any.whl.metadata (2.8 kB)\n",
            "Requirement already satisfied: tqdm<5.0.0,>=4.42.1 in /usr/local/lib/python3.11/dist-packages (from pyppeteer>=0.0.14->requests-html->yahoo_fin) (4.67.1)\n",
            "Collecting urllib3<3,>=1.21.1 (from requests->yahoo_fin)\n",
            "  Downloading urllib3-1.26.20-py2.py3-none-any.whl.metadata (50 kB)\n",
            "\u001b[2K     \u001b[90m━━━━━━━━━━━━━━━━━━━━━━━━━━━━━━━━━━━━━━━━\u001b[0m \u001b[32m50.1/50.1 kB\u001b[0m \u001b[31m2.9 MB/s\u001b[0m eta \u001b[36m0:00:00\u001b[0m\n",
            "\u001b[?25hCollecting websockets<11.0,>=10.0 (from pyppeteer>=0.0.14->requests-html->yahoo_fin)\n",
            "  Downloading websockets-10.4-cp311-cp311-manylinux_2_5_x86_64.manylinux1_x86_64.manylinux_2_17_x86_64.manylinux2014_x86_64.whl.metadata (6.4 kB)\n",
            "Requirement already satisfied: six>=1.5 in /usr/local/lib/python3.11/dist-packages (from python-dateutil>=2.8.2->pandas->yahoo_fin) (1.17.0)\n",
            "Requirement already satisfied: beautifulsoup4 in /usr/local/lib/python3.11/dist-packages (from bs4->requests-html->yahoo_fin) (4.13.3)\n",
            "Requirement already satisfied: lxml>=2.1 in /usr/local/lib/python3.11/dist-packages (from pyquery->requests-html->yahoo_fin) (5.3.1)\n",
            "Collecting cssselect>=1.2.0 (from pyquery->requests-html->yahoo_fin)\n",
            "  Downloading cssselect-1.2.0-py2.py3-none-any.whl.metadata (2.2 kB)\n",
            "Requirement already satisfied: zipp>=3.20 in /usr/local/lib/python3.11/dist-packages (from importlib-metadata>=1.4->pyppeteer>=0.0.14->requests-html->yahoo_fin) (3.21.0)\n",
            "Requirement already satisfied: typing-extensions in /usr/local/lib/python3.11/dist-packages (from pyee<12.0.0,>=11.0.0->pyppeteer>=0.0.14->requests-html->yahoo_fin) (4.12.2)\n",
            "Requirement already satisfied: soupsieve>1.2 in /usr/local/lib/python3.11/dist-packages (from beautifulsoup4->bs4->requests-html->yahoo_fin) (2.6)\n",
            "Downloading yahoo_fin-0.8.9.1-py3-none-any.whl (10 kB)\n",
            "Downloading feedparser-6.0.11-py3-none-any.whl (81 kB)\n",
            "\u001b[2K   \u001b[90m━━━━━━━━━━━━━━━━━━━━━━━━━━━━━━━━━━━━━━━━\u001b[0m \u001b[32m81.3/81.3 kB\u001b[0m \u001b[31m6.5 MB/s\u001b[0m eta \u001b[36m0:00:00\u001b[0m\n",
            "\u001b[?25hDownloading requests_html-0.10.0-py3-none-any.whl (13 kB)\n",
            "Downloading pyppeteer-2.0.0-py3-none-any.whl (82 kB)\n",
            "\u001b[2K   \u001b[90m━━━━━━━━━━━━━━━━━━━━━━━━━━━━━━━━━━━━━━━━\u001b[0m \u001b[32m82.9/82.9 kB\u001b[0m \u001b[31m7.3 MB/s\u001b[0m eta \u001b[36m0:00:00\u001b[0m\n",
            "\u001b[?25hDownloading urllib3-1.26.20-py2.py3-none-any.whl (144 kB)\n",
            "\u001b[2K   \u001b[90m━━━━━━━━━━━━━━━━━━━━━━━━━━━━━━━━━━━━━━━━\u001b[0m \u001b[32m144.2/144.2 kB\u001b[0m \u001b[31m10.2 MB/s\u001b[0m eta \u001b[36m0:00:00\u001b[0m\n",
            "\u001b[?25hDownloading bs4-0.0.2-py2.py3-none-any.whl (1.2 kB)\n",
            "Downloading fake_useragent-2.0.3-py3-none-any.whl (201 kB)\n",
            "\u001b[2K   \u001b[90m━━━━━━━━━━━━━━━━━━━━━━━━━━━━━━━━━━━━━━━━\u001b[0m \u001b[32m201.1/201.1 kB\u001b[0m \u001b[31m16.3 MB/s\u001b[0m eta \u001b[36m0:00:00\u001b[0m\n",
            "\u001b[?25hDownloading parse-1.20.2-py2.py3-none-any.whl (20 kB)\n",
            "Downloading pyquery-2.0.1-py3-none-any.whl (22 kB)\n",
            "Downloading w3lib-2.3.1-py3-none-any.whl (21 kB)\n",
            "Downloading appdirs-1.4.4-py2.py3-none-any.whl (9.6 kB)\n",
            "Downloading cssselect-1.2.0-py2.py3-none-any.whl (18 kB)\n",
            "Downloading pyee-11.1.1-py3-none-any.whl (15 kB)\n",
            "Downloading websockets-10.4-cp311-cp311-manylinux_2_5_x86_64.manylinux1_x86_64.manylinux_2_17_x86_64.manylinux2014_x86_64.whl (107 kB)\n",
            "\u001b[2K   \u001b[90m━━━━━━━━━━━━━━━━━━━━━━━━━━━━━━━━━━━━━━━━\u001b[0m \u001b[32m107.4/107.4 kB\u001b[0m \u001b[31m2.8 MB/s\u001b[0m eta \u001b[36m0:00:00\u001b[0m\n",
            "\u001b[?25hBuilding wheels for collected packages: sgmllib3k\n",
            "  Building wheel for sgmllib3k (setup.py) ... \u001b[?25l\u001b[?25hdone\n",
            "  Created wheel for sgmllib3k: filename=sgmllib3k-1.0.0-py3-none-any.whl size=6047 sha256=7a443917fb5346903ebeb51648ef76597430fe85c6f28fc23e2412ad1736bffb\n",
            "  Stored in directory: /root/.cache/pip/wheels/3b/25/2a/105d6a15df6914f4d15047691c6c28f9052cc1173e40285d03\n",
            "Successfully built sgmllib3k\n",
            "Installing collected packages: sgmllib3k, parse, appdirs, websockets, w3lib, urllib3, pyee, feedparser, fake-useragent, cssselect, pyquery, pyppeteer, bs4, requests-html, yahoo_fin\n",
            "  Attempting uninstall: websockets\n",
            "    Found existing installation: websockets 14.2\n",
            "    Uninstalling websockets-14.2:\n",
            "      Successfully uninstalled websockets-14.2\n",
            "  Attempting uninstall: urllib3\n",
            "    Found existing installation: urllib3 2.3.0\n",
            "    Uninstalling urllib3-2.3.0:\n",
            "      Successfully uninstalled urllib3-2.3.0\n",
            "\u001b[31mERROR: pip's dependency resolver does not currently take into account all the packages that are installed. This behaviour is the source of the following dependency conflicts.\n",
            "google-genai 0.8.0 requires websockets<15.0dev,>=13.0, but you have websockets 10.4 which is incompatible.\u001b[0m\u001b[31m\n",
            "\u001b[0mSuccessfully installed appdirs-1.4.4 bs4-0.0.2 cssselect-1.2.0 fake-useragent-2.0.3 feedparser-6.0.11 parse-1.20.2 pyee-11.1.1 pyppeteer-2.0.0 pyquery-2.0.1 requests-html-0.10.0 sgmllib3k-1.0.0 urllib3-1.26.20 w3lib-2.3.1 websockets-10.4 yahoo_fin-0.8.9.1\n"
          ]
        }
      ]
    },
    {
      "cell_type": "code",
      "source": [
        "from yahoo_fin import options\n",
        "import yfinance as yf\n",
        "from datetime import datetime\n",
        "import pandas as pd\n",
        "import math\n",
        "from scipy.stats import norm\n",
        "import seaborn as sns\n",
        "import matplotlib.pyplot as plt"
      ],
      "metadata": {
        "id": "EEszutnWZrHt"
      },
      "execution_count": 66,
      "outputs": []
    },
    {
      "cell_type": "markdown",
      "source": [
        "## Obtaining Microsoft Stock Data from Yahoo Finance"
      ],
      "metadata": {
        "id": "PiwB5E_-ebC3"
      }
    },
    {
      "cell_type": "code",
      "source": [
        "# creates a Ticker object for Microsoft stock (MSFT)\n",
        "msft = yf.Ticker(\"MSFT\")\n",
        "\n",
        "# gets expiration_dates for options\n",
        "expiration_dates = msft.options\n",
        "print(expiration_dates)"
      ],
      "metadata": {
        "id": "nx1FHDJYjZo6",
        "outputId": "b63f79fa-5673-4e5e-a9bb-f1f06f24e2d9",
        "colab": {
          "base_uri": "https://localhost:8080/"
        }
      },
      "execution_count": 67,
      "outputs": [
        {
          "output_type": "stream",
          "name": "stdout",
          "text": [
            "('2025-02-28', '2025-03-07', '2025-03-14', '2025-03-21', '2025-03-28', '2025-04-04', '2025-04-17', '2025-05-16', '2025-06-20', '2025-07-18', '2025-08-15', '2025-09-19', '2025-12-19', '2026-01-16', '2026-03-20', '2026-06-18', '2026-12-18', '2027-01-15', '2027-06-17', '2027-12-17')\n"
          ]
        }
      ]
    },
    {
      "cell_type": "markdown",
      "source": [
        "## Pricing Call Options"
      ],
      "metadata": {
        "id": "Uu5ORhkZ0hRJ"
      }
    },
    {
      "cell_type": "code",
      "source": [
        "# Fetch call option data for a specific expiration date\n",
        "call_options = options.get_calls(\"MSFT\", \"2025-08-15\")\n",
        "print(call_options)"
      ],
      "metadata": {
        "id": "qjFxNrcLoSTs",
        "outputId": "5b895cbc-a5e2-4b78-cc5a-734f409cb234",
        "colab": {
          "base_uri": "https://localhost:8080/"
        }
      },
      "execution_count": 68,
      "outputs": [
        {
          "output_type": "stream",
          "name": "stdout",
          "text": [
            "          Contract Name Last Trade Date (EST)  Strike  Last Price     Bid  \\\n",
            "0   MSFT250815C00200000     2/14/2025 2:04 PM     200      212.00  210.60   \n",
            "1   MSFT250815C00210000   12/27/2024 11:15 AM     210      224.43  211.60   \n",
            "2   MSFT250815C00225000    10/29/2024 3:27 PM     225      215.60  205.00   \n",
            "3   MSFT250815C00230000      1/6/2025 3:43 PM     230      203.40  182.15   \n",
            "4   MSFT250815C00235000      1/6/2025 3:50 PM     235      198.85  178.25   \n",
            "..                  ...                   ...     ...         ...     ...   \n",
            "77  MSFT250815C00610000      2/5/2025 9:37 AM     610        0.56    0.00   \n",
            "78  MSFT250815C00615000    2/19/2025 11:47 AM     615        0.40    0.36   \n",
            "79  MSFT250815C00620000     2/11/2025 9:30 AM     620        0.44    0.00   \n",
            "80  MSFT250815C00640000     2/21/2025 3:48 PM     640        0.25    0.21   \n",
            "81  MSFT250815C00660000     2/21/2025 9:30 AM     660        0.22    0.12   \n",
            "\n",
            "       Ask  Change % Change Volume  Open Interest Implied Volatility  \n",
            "0   214.85    0.00    0.00%      4              7             71.23%  \n",
            "1   212.95    0.00    0.00%     15             15             92.76%  \n",
            "2   207.45    0.00    0.00%      1              0            102.41%  \n",
            "3   185.90    0.00    0.00%     15             33             63.21%  \n",
            "4   181.90    0.00    0.00%     41             31             64.11%  \n",
            "..     ...     ...      ...    ...            ...                ...  \n",
            "77    0.46    0.00    0.00%     33             59             26.58%  \n",
            "78    0.43    0.00    0.00%     10            152             26.77%  \n",
            "79    0.39    0.00    0.00%      1            127             26.86%  \n",
            "80    0.29   -0.08  -24.24%   1008           1161             27.52%  \n",
            "81    0.21    0.06   37.50%      1             92             28.00%  \n",
            "\n",
            "[82 rows x 11 columns]\n"
          ]
        },
        {
          "output_type": "stream",
          "name": "stderr",
          "text": [
            "/usr/local/lib/python3.11/dist-packages/yahoo_fin/options.py:42: FutureWarning: Passing literal html to 'read_html' is deprecated and will be removed in a future version. To read from a literal string, wrap it in a 'StringIO' object.\n",
            "  tables = pd.read_html(requests.get(site, headers=headers).text)\n"
          ]
        }
      ]
    },
    {
      "cell_type": "code",
      "source": [
        "df1 = pd.DataFrame(call_options)\n",
        "df1.to_csv('call_options.csv', index=False)"
      ],
      "metadata": {
        "id": "wIXOWOB4kEVh"
      },
      "execution_count": 69,
      "outputs": []
    },
    {
      "cell_type": "code",
      "source": [
        "calls = df1.copy()\n",
        "calls.head()"
      ],
      "metadata": {
        "id": "NV987sKPzcSN",
        "outputId": "4204bf4a-ade9-4e34-ca69-49fdf3a5e2fe",
        "colab": {
          "base_uri": "https://localhost:8080/",
          "height": 206
        }
      },
      "execution_count": 70,
      "outputs": [
        {
          "output_type": "execute_result",
          "data": {
            "text/plain": [
              "         Contract Name Last Trade Date (EST)  Strike  Last Price     Bid  \\\n",
              "0  MSFT250815C00200000     2/14/2025 2:04 PM     200      212.00  210.60   \n",
              "1  MSFT250815C00210000   12/27/2024 11:15 AM     210      224.43  211.60   \n",
              "2  MSFT250815C00225000    10/29/2024 3:27 PM     225      215.60  205.00   \n",
              "3  MSFT250815C00230000      1/6/2025 3:43 PM     230      203.40  182.15   \n",
              "4  MSFT250815C00235000      1/6/2025 3:50 PM     235      198.85  178.25   \n",
              "\n",
              "      Ask  Change % Change Volume  Open Interest Implied Volatility  \n",
              "0  214.85     0.0    0.00%      4              7             71.23%  \n",
              "1  212.95     0.0    0.00%     15             15             92.76%  \n",
              "2  207.45     0.0    0.00%      1              0            102.41%  \n",
              "3  185.90     0.0    0.00%     15             33             63.21%  \n",
              "4  181.90     0.0    0.00%     41             31             64.11%  "
            ],
            "text/html": [
              "\n",
              "  <div id=\"df-a5caa855-609c-49f3-a93d-30abac7e4dd9\" class=\"colab-df-container\">\n",
              "    <div>\n",
              "<style scoped>\n",
              "    .dataframe tbody tr th:only-of-type {\n",
              "        vertical-align: middle;\n",
              "    }\n",
              "\n",
              "    .dataframe tbody tr th {\n",
              "        vertical-align: top;\n",
              "    }\n",
              "\n",
              "    .dataframe thead th {\n",
              "        text-align: right;\n",
              "    }\n",
              "</style>\n",
              "<table border=\"1\" class=\"dataframe\">\n",
              "  <thead>\n",
              "    <tr style=\"text-align: right;\">\n",
              "      <th></th>\n",
              "      <th>Contract Name</th>\n",
              "      <th>Last Trade Date (EST)</th>\n",
              "      <th>Strike</th>\n",
              "      <th>Last Price</th>\n",
              "      <th>Bid</th>\n",
              "      <th>Ask</th>\n",
              "      <th>Change</th>\n",
              "      <th>% Change</th>\n",
              "      <th>Volume</th>\n",
              "      <th>Open Interest</th>\n",
              "      <th>Implied Volatility</th>\n",
              "    </tr>\n",
              "  </thead>\n",
              "  <tbody>\n",
              "    <tr>\n",
              "      <th>0</th>\n",
              "      <td>MSFT250815C00200000</td>\n",
              "      <td>2/14/2025 2:04 PM</td>\n",
              "      <td>200</td>\n",
              "      <td>212.00</td>\n",
              "      <td>210.60</td>\n",
              "      <td>214.85</td>\n",
              "      <td>0.0</td>\n",
              "      <td>0.00%</td>\n",
              "      <td>4</td>\n",
              "      <td>7</td>\n",
              "      <td>71.23%</td>\n",
              "    </tr>\n",
              "    <tr>\n",
              "      <th>1</th>\n",
              "      <td>MSFT250815C00210000</td>\n",
              "      <td>12/27/2024 11:15 AM</td>\n",
              "      <td>210</td>\n",
              "      <td>224.43</td>\n",
              "      <td>211.60</td>\n",
              "      <td>212.95</td>\n",
              "      <td>0.0</td>\n",
              "      <td>0.00%</td>\n",
              "      <td>15</td>\n",
              "      <td>15</td>\n",
              "      <td>92.76%</td>\n",
              "    </tr>\n",
              "    <tr>\n",
              "      <th>2</th>\n",
              "      <td>MSFT250815C00225000</td>\n",
              "      <td>10/29/2024 3:27 PM</td>\n",
              "      <td>225</td>\n",
              "      <td>215.60</td>\n",
              "      <td>205.00</td>\n",
              "      <td>207.45</td>\n",
              "      <td>0.0</td>\n",
              "      <td>0.00%</td>\n",
              "      <td>1</td>\n",
              "      <td>0</td>\n",
              "      <td>102.41%</td>\n",
              "    </tr>\n",
              "    <tr>\n",
              "      <th>3</th>\n",
              "      <td>MSFT250815C00230000</td>\n",
              "      <td>1/6/2025 3:43 PM</td>\n",
              "      <td>230</td>\n",
              "      <td>203.40</td>\n",
              "      <td>182.15</td>\n",
              "      <td>185.90</td>\n",
              "      <td>0.0</td>\n",
              "      <td>0.00%</td>\n",
              "      <td>15</td>\n",
              "      <td>33</td>\n",
              "      <td>63.21%</td>\n",
              "    </tr>\n",
              "    <tr>\n",
              "      <th>4</th>\n",
              "      <td>MSFT250815C00235000</td>\n",
              "      <td>1/6/2025 3:50 PM</td>\n",
              "      <td>235</td>\n",
              "      <td>198.85</td>\n",
              "      <td>178.25</td>\n",
              "      <td>181.90</td>\n",
              "      <td>0.0</td>\n",
              "      <td>0.00%</td>\n",
              "      <td>41</td>\n",
              "      <td>31</td>\n",
              "      <td>64.11%</td>\n",
              "    </tr>\n",
              "  </tbody>\n",
              "</table>\n",
              "</div>\n",
              "    <div class=\"colab-df-buttons\">\n",
              "\n",
              "  <div class=\"colab-df-container\">\n",
              "    <button class=\"colab-df-convert\" onclick=\"convertToInteractive('df-a5caa855-609c-49f3-a93d-30abac7e4dd9')\"\n",
              "            title=\"Convert this dataframe to an interactive table.\"\n",
              "            style=\"display:none;\">\n",
              "\n",
              "  <svg xmlns=\"http://www.w3.org/2000/svg\" height=\"24px\" viewBox=\"0 -960 960 960\">\n",
              "    <path d=\"M120-120v-720h720v720H120Zm60-500h600v-160H180v160Zm220 220h160v-160H400v160Zm0 220h160v-160H400v160ZM180-400h160v-160H180v160Zm440 0h160v-160H620v160ZM180-180h160v-160H180v160Zm440 0h160v-160H620v160Z\"/>\n",
              "  </svg>\n",
              "    </button>\n",
              "\n",
              "  <style>\n",
              "    .colab-df-container {\n",
              "      display:flex;\n",
              "      gap: 12px;\n",
              "    }\n",
              "\n",
              "    .colab-df-convert {\n",
              "      background-color: #E8F0FE;\n",
              "      border: none;\n",
              "      border-radius: 50%;\n",
              "      cursor: pointer;\n",
              "      display: none;\n",
              "      fill: #1967D2;\n",
              "      height: 32px;\n",
              "      padding: 0 0 0 0;\n",
              "      width: 32px;\n",
              "    }\n",
              "\n",
              "    .colab-df-convert:hover {\n",
              "      background-color: #E2EBFA;\n",
              "      box-shadow: 0px 1px 2px rgba(60, 64, 67, 0.3), 0px 1px 3px 1px rgba(60, 64, 67, 0.15);\n",
              "      fill: #174EA6;\n",
              "    }\n",
              "\n",
              "    .colab-df-buttons div {\n",
              "      margin-bottom: 4px;\n",
              "    }\n",
              "\n",
              "    [theme=dark] .colab-df-convert {\n",
              "      background-color: #3B4455;\n",
              "      fill: #D2E3FC;\n",
              "    }\n",
              "\n",
              "    [theme=dark] .colab-df-convert:hover {\n",
              "      background-color: #434B5C;\n",
              "      box-shadow: 0px 1px 3px 1px rgba(0, 0, 0, 0.15);\n",
              "      filter: drop-shadow(0px 1px 2px rgba(0, 0, 0, 0.3));\n",
              "      fill: #FFFFFF;\n",
              "    }\n",
              "  </style>\n",
              "\n",
              "    <script>\n",
              "      const buttonEl =\n",
              "        document.querySelector('#df-a5caa855-609c-49f3-a93d-30abac7e4dd9 button.colab-df-convert');\n",
              "      buttonEl.style.display =\n",
              "        google.colab.kernel.accessAllowed ? 'block' : 'none';\n",
              "\n",
              "      async function convertToInteractive(key) {\n",
              "        const element = document.querySelector('#df-a5caa855-609c-49f3-a93d-30abac7e4dd9');\n",
              "        const dataTable =\n",
              "          await google.colab.kernel.invokeFunction('convertToInteractive',\n",
              "                                                    [key], {});\n",
              "        if (!dataTable) return;\n",
              "\n",
              "        const docLinkHtml = 'Like what you see? Visit the ' +\n",
              "          '<a target=\"_blank\" href=https://colab.research.google.com/notebooks/data_table.ipynb>data table notebook</a>'\n",
              "          + ' to learn more about interactive tables.';\n",
              "        element.innerHTML = '';\n",
              "        dataTable['output_type'] = 'display_data';\n",
              "        await google.colab.output.renderOutput(dataTable, element);\n",
              "        const docLink = document.createElement('div');\n",
              "        docLink.innerHTML = docLinkHtml;\n",
              "        element.appendChild(docLink);\n",
              "      }\n",
              "    </script>\n",
              "  </div>\n",
              "\n",
              "\n",
              "<div id=\"df-ae831c78-30c6-4194-a593-22d25c75a62a\">\n",
              "  <button class=\"colab-df-quickchart\" onclick=\"quickchart('df-ae831c78-30c6-4194-a593-22d25c75a62a')\"\n",
              "            title=\"Suggest charts\"\n",
              "            style=\"display:none;\">\n",
              "\n",
              "<svg xmlns=\"http://www.w3.org/2000/svg\" height=\"24px\"viewBox=\"0 0 24 24\"\n",
              "     width=\"24px\">\n",
              "    <g>\n",
              "        <path d=\"M19 3H5c-1.1 0-2 .9-2 2v14c0 1.1.9 2 2 2h14c1.1 0 2-.9 2-2V5c0-1.1-.9-2-2-2zM9 17H7v-7h2v7zm4 0h-2V7h2v10zm4 0h-2v-4h2v4z\"/>\n",
              "    </g>\n",
              "</svg>\n",
              "  </button>\n",
              "\n",
              "<style>\n",
              "  .colab-df-quickchart {\n",
              "      --bg-color: #E8F0FE;\n",
              "      --fill-color: #1967D2;\n",
              "      --hover-bg-color: #E2EBFA;\n",
              "      --hover-fill-color: #174EA6;\n",
              "      --disabled-fill-color: #AAA;\n",
              "      --disabled-bg-color: #DDD;\n",
              "  }\n",
              "\n",
              "  [theme=dark] .colab-df-quickchart {\n",
              "      --bg-color: #3B4455;\n",
              "      --fill-color: #D2E3FC;\n",
              "      --hover-bg-color: #434B5C;\n",
              "      --hover-fill-color: #FFFFFF;\n",
              "      --disabled-bg-color: #3B4455;\n",
              "      --disabled-fill-color: #666;\n",
              "  }\n",
              "\n",
              "  .colab-df-quickchart {\n",
              "    background-color: var(--bg-color);\n",
              "    border: none;\n",
              "    border-radius: 50%;\n",
              "    cursor: pointer;\n",
              "    display: none;\n",
              "    fill: var(--fill-color);\n",
              "    height: 32px;\n",
              "    padding: 0;\n",
              "    width: 32px;\n",
              "  }\n",
              "\n",
              "  .colab-df-quickchart:hover {\n",
              "    background-color: var(--hover-bg-color);\n",
              "    box-shadow: 0 1px 2px rgba(60, 64, 67, 0.3), 0 1px 3px 1px rgba(60, 64, 67, 0.15);\n",
              "    fill: var(--button-hover-fill-color);\n",
              "  }\n",
              "\n",
              "  .colab-df-quickchart-complete:disabled,\n",
              "  .colab-df-quickchart-complete:disabled:hover {\n",
              "    background-color: var(--disabled-bg-color);\n",
              "    fill: var(--disabled-fill-color);\n",
              "    box-shadow: none;\n",
              "  }\n",
              "\n",
              "  .colab-df-spinner {\n",
              "    border: 2px solid var(--fill-color);\n",
              "    border-color: transparent;\n",
              "    border-bottom-color: var(--fill-color);\n",
              "    animation:\n",
              "      spin 1s steps(1) infinite;\n",
              "  }\n",
              "\n",
              "  @keyframes spin {\n",
              "    0% {\n",
              "      border-color: transparent;\n",
              "      border-bottom-color: var(--fill-color);\n",
              "      border-left-color: var(--fill-color);\n",
              "    }\n",
              "    20% {\n",
              "      border-color: transparent;\n",
              "      border-left-color: var(--fill-color);\n",
              "      border-top-color: var(--fill-color);\n",
              "    }\n",
              "    30% {\n",
              "      border-color: transparent;\n",
              "      border-left-color: var(--fill-color);\n",
              "      border-top-color: var(--fill-color);\n",
              "      border-right-color: var(--fill-color);\n",
              "    }\n",
              "    40% {\n",
              "      border-color: transparent;\n",
              "      border-right-color: var(--fill-color);\n",
              "      border-top-color: var(--fill-color);\n",
              "    }\n",
              "    60% {\n",
              "      border-color: transparent;\n",
              "      border-right-color: var(--fill-color);\n",
              "    }\n",
              "    80% {\n",
              "      border-color: transparent;\n",
              "      border-right-color: var(--fill-color);\n",
              "      border-bottom-color: var(--fill-color);\n",
              "    }\n",
              "    90% {\n",
              "      border-color: transparent;\n",
              "      border-bottom-color: var(--fill-color);\n",
              "    }\n",
              "  }\n",
              "</style>\n",
              "\n",
              "  <script>\n",
              "    async function quickchart(key) {\n",
              "      const quickchartButtonEl =\n",
              "        document.querySelector('#' + key + ' button');\n",
              "      quickchartButtonEl.disabled = true;  // To prevent multiple clicks.\n",
              "      quickchartButtonEl.classList.add('colab-df-spinner');\n",
              "      try {\n",
              "        const charts = await google.colab.kernel.invokeFunction(\n",
              "            'suggestCharts', [key], {});\n",
              "      } catch (error) {\n",
              "        console.error('Error during call to suggestCharts:', error);\n",
              "      }\n",
              "      quickchartButtonEl.classList.remove('colab-df-spinner');\n",
              "      quickchartButtonEl.classList.add('colab-df-quickchart-complete');\n",
              "    }\n",
              "    (() => {\n",
              "      let quickchartButtonEl =\n",
              "        document.querySelector('#df-ae831c78-30c6-4194-a593-22d25c75a62a button');\n",
              "      quickchartButtonEl.style.display =\n",
              "        google.colab.kernel.accessAllowed ? 'block' : 'none';\n",
              "    })();\n",
              "  </script>\n",
              "</div>\n",
              "\n",
              "    </div>\n",
              "  </div>\n"
            ],
            "application/vnd.google.colaboratory.intrinsic+json": {
              "type": "dataframe",
              "variable_name": "calls",
              "summary": "{\n  \"name\": \"calls\",\n  \"rows\": 82,\n  \"fields\": [\n    {\n      \"column\": \"Contract Name\",\n      \"properties\": {\n        \"dtype\": \"string\",\n        \"num_unique_values\": 82,\n        \"samples\": [\n          \"MSFT250815C00375000\",\n          \"MSFT250815C00200000\",\n          \"MSFT250815C00335000\"\n        ],\n        \"semantic_type\": \"\",\n        \"description\": \"\"\n      }\n    },\n    {\n      \"column\": \"Last Trade Date (EST)\",\n      \"properties\": {\n        \"dtype\": \"object\",\n        \"num_unique_values\": 70,\n        \"samples\": [\n          \"1/30/2025 12:12 PM\",\n          \"2/14/2025 2:04 PM\",\n          \"2/21/2025 3:23 PM\"\n        ],\n        \"semantic_type\": \"\",\n        \"description\": \"\"\n      }\n    },\n    {\n      \"column\": \"Strike\",\n      \"properties\": {\n        \"dtype\": \"number\",\n        \"std\": 121,\n        \"min\": 200,\n        \"max\": 660,\n        \"num_unique_values\": 82,\n        \"samples\": [\n          375,\n          200,\n          335\n        ],\n        \"semantic_type\": \"\",\n        \"description\": \"\"\n      }\n    },\n    {\n      \"column\": \"Last Price\",\n      \"properties\": {\n        \"dtype\": \"number\",\n        \"std\": 65.31592048259296,\n        \"min\": 0.22,\n        \"max\": 224.43,\n        \"num_unique_values\": 81,\n        \"samples\": [\n          60.81,\n          212.0,\n          92.88\n        ],\n        \"semantic_type\": \"\",\n        \"description\": \"\"\n      }\n    },\n    {\n      \"column\": \"Bid\",\n      \"properties\": {\n        \"dtype\": \"number\",\n        \"std\": 61.71413133764432,\n        \"min\": 0.0,\n        \"max\": 211.6,\n        \"num_unique_values\": 79,\n        \"samples\": [\n          52.6,\n          210.6,\n          84.6\n        ],\n        \"semantic_type\": \"\",\n        \"description\": \"\"\n      }\n    },\n    {\n      \"column\": \"Ask\",\n      \"properties\": {\n        \"dtype\": \"number\",\n        \"std\": 62.91559340326653,\n        \"min\": 0.21,\n        \"max\": 214.85,\n        \"num_unique_values\": 82,\n        \"samples\": [\n          53.35,\n          214.85,\n          85.45\n        ],\n        \"semantic_type\": \"\",\n        \"description\": \"\"\n      }\n    },\n    {\n      \"column\": \"Change\",\n      \"properties\": {\n        \"dtype\": \"number\",\n        \"std\": 1.9615189968663969,\n        \"min\": -6.8,\n        \"max\": 3.77,\n        \"num_unique_values\": 43,\n        \"samples\": [\n          -0.19,\n          -2.01,\n          -1.82\n        ],\n        \"semantic_type\": \"\",\n        \"description\": \"\"\n      }\n    },\n    {\n      \"column\": \"% Change\",\n      \"properties\": {\n        \"dtype\": \"string\",\n        \"num_unique_values\": 43,\n        \"samples\": [\n          \"-12.93%\",\n          \"-16.14%\",\n          \"-16.37%\"\n        ],\n        \"semantic_type\": \"\",\n        \"description\": \"\"\n      }\n    },\n    {\n      \"column\": \"Volume\",\n      \"properties\": {\n        \"dtype\": \"category\",\n        \"num_unique_values\": 36,\n        \"samples\": [\n          \"1008\",\n          \"200\",\n          \"27\"\n        ],\n        \"semantic_type\": \"\",\n        \"description\": \"\"\n      }\n    },\n    {\n      \"column\": \"Open Interest\",\n      \"properties\": {\n        \"dtype\": \"number\",\n        \"std\": 681,\n        \"min\": 0,\n        \"max\": 5271,\n        \"num_unique_values\": 72,\n        \"samples\": [\n          31,\n          169,\n          45\n        ],\n        \"semantic_type\": \"\",\n        \"description\": \"\"\n      }\n    },\n    {\n      \"column\": \"Implied Volatility\",\n      \"properties\": {\n        \"dtype\": \"string\",\n        \"num_unique_values\": 80,\n        \"samples\": [\n          \"31.79%\",\n          \"71.23%\",\n          \"37.52%\"\n        ],\n        \"semantic_type\": \"\",\n        \"description\": \"\"\n      }\n    }\n  ]\n}"
            }
          },
          "metadata": {},
          "execution_count": 70
        }
      ]
    },
    {
      "cell_type": "code",
      "source": [
        "calls.describe()"
      ],
      "metadata": {
        "id": "501-0MgGnj9A",
        "outputId": "f4190a00-fff3-4ecb-e3fd-c8cb14dec703",
        "colab": {
          "base_uri": "https://localhost:8080/",
          "height": 300
        }
      },
      "execution_count": 71,
      "outputs": [
        {
          "output_type": "execute_result",
          "data": {
            "text/plain": [
              "           Strike  Last Price         Bid         Ask     Change  \\\n",
              "count   82.000000   82.000000   82.000000   82.000000  82.000000   \n",
              "mean   426.890244   55.397927   52.257927   53.879268  -1.069878   \n",
              "std    121.978647   65.315920   61.714131   62.915593   1.961519   \n",
              "min    200.000000    0.220000    0.000000    0.210000  -6.800000   \n",
              "25%    326.250000    2.717500    2.250000    2.395000  -1.910000   \n",
              "50%    427.500000   22.750000   22.500000   24.800000   0.000000   \n",
              "75%    528.750000   93.412500   91.612500   94.950000   0.000000   \n",
              "max    660.000000  224.430000  211.600000  214.850000   3.770000   \n",
              "\n",
              "       Open Interest  \n",
              "count      82.000000  \n",
              "mean      339.817073  \n",
              "std       681.461558  \n",
              "min         0.000000  \n",
              "25%        45.000000  \n",
              "50%       122.500000  \n",
              "75%       414.750000  \n",
              "max      5271.000000  "
            ],
            "text/html": [
              "\n",
              "  <div id=\"df-b9510376-ea83-4e93-a565-147e9c6d7793\" class=\"colab-df-container\">\n",
              "    <div>\n",
              "<style scoped>\n",
              "    .dataframe tbody tr th:only-of-type {\n",
              "        vertical-align: middle;\n",
              "    }\n",
              "\n",
              "    .dataframe tbody tr th {\n",
              "        vertical-align: top;\n",
              "    }\n",
              "\n",
              "    .dataframe thead th {\n",
              "        text-align: right;\n",
              "    }\n",
              "</style>\n",
              "<table border=\"1\" class=\"dataframe\">\n",
              "  <thead>\n",
              "    <tr style=\"text-align: right;\">\n",
              "      <th></th>\n",
              "      <th>Strike</th>\n",
              "      <th>Last Price</th>\n",
              "      <th>Bid</th>\n",
              "      <th>Ask</th>\n",
              "      <th>Change</th>\n",
              "      <th>Open Interest</th>\n",
              "    </tr>\n",
              "  </thead>\n",
              "  <tbody>\n",
              "    <tr>\n",
              "      <th>count</th>\n",
              "      <td>82.000000</td>\n",
              "      <td>82.000000</td>\n",
              "      <td>82.000000</td>\n",
              "      <td>82.000000</td>\n",
              "      <td>82.000000</td>\n",
              "      <td>82.000000</td>\n",
              "    </tr>\n",
              "    <tr>\n",
              "      <th>mean</th>\n",
              "      <td>426.890244</td>\n",
              "      <td>55.397927</td>\n",
              "      <td>52.257927</td>\n",
              "      <td>53.879268</td>\n",
              "      <td>-1.069878</td>\n",
              "      <td>339.817073</td>\n",
              "    </tr>\n",
              "    <tr>\n",
              "      <th>std</th>\n",
              "      <td>121.978647</td>\n",
              "      <td>65.315920</td>\n",
              "      <td>61.714131</td>\n",
              "      <td>62.915593</td>\n",
              "      <td>1.961519</td>\n",
              "      <td>681.461558</td>\n",
              "    </tr>\n",
              "    <tr>\n",
              "      <th>min</th>\n",
              "      <td>200.000000</td>\n",
              "      <td>0.220000</td>\n",
              "      <td>0.000000</td>\n",
              "      <td>0.210000</td>\n",
              "      <td>-6.800000</td>\n",
              "      <td>0.000000</td>\n",
              "    </tr>\n",
              "    <tr>\n",
              "      <th>25%</th>\n",
              "      <td>326.250000</td>\n",
              "      <td>2.717500</td>\n",
              "      <td>2.250000</td>\n",
              "      <td>2.395000</td>\n",
              "      <td>-1.910000</td>\n",
              "      <td>45.000000</td>\n",
              "    </tr>\n",
              "    <tr>\n",
              "      <th>50%</th>\n",
              "      <td>427.500000</td>\n",
              "      <td>22.750000</td>\n",
              "      <td>22.500000</td>\n",
              "      <td>24.800000</td>\n",
              "      <td>0.000000</td>\n",
              "      <td>122.500000</td>\n",
              "    </tr>\n",
              "    <tr>\n",
              "      <th>75%</th>\n",
              "      <td>528.750000</td>\n",
              "      <td>93.412500</td>\n",
              "      <td>91.612500</td>\n",
              "      <td>94.950000</td>\n",
              "      <td>0.000000</td>\n",
              "      <td>414.750000</td>\n",
              "    </tr>\n",
              "    <tr>\n",
              "      <th>max</th>\n",
              "      <td>660.000000</td>\n",
              "      <td>224.430000</td>\n",
              "      <td>211.600000</td>\n",
              "      <td>214.850000</td>\n",
              "      <td>3.770000</td>\n",
              "      <td>5271.000000</td>\n",
              "    </tr>\n",
              "  </tbody>\n",
              "</table>\n",
              "</div>\n",
              "    <div class=\"colab-df-buttons\">\n",
              "\n",
              "  <div class=\"colab-df-container\">\n",
              "    <button class=\"colab-df-convert\" onclick=\"convertToInteractive('df-b9510376-ea83-4e93-a565-147e9c6d7793')\"\n",
              "            title=\"Convert this dataframe to an interactive table.\"\n",
              "            style=\"display:none;\">\n",
              "\n",
              "  <svg xmlns=\"http://www.w3.org/2000/svg\" height=\"24px\" viewBox=\"0 -960 960 960\">\n",
              "    <path d=\"M120-120v-720h720v720H120Zm60-500h600v-160H180v160Zm220 220h160v-160H400v160Zm0 220h160v-160H400v160ZM180-400h160v-160H180v160Zm440 0h160v-160H620v160ZM180-180h160v-160H180v160Zm440 0h160v-160H620v160Z\"/>\n",
              "  </svg>\n",
              "    </button>\n",
              "\n",
              "  <style>\n",
              "    .colab-df-container {\n",
              "      display:flex;\n",
              "      gap: 12px;\n",
              "    }\n",
              "\n",
              "    .colab-df-convert {\n",
              "      background-color: #E8F0FE;\n",
              "      border: none;\n",
              "      border-radius: 50%;\n",
              "      cursor: pointer;\n",
              "      display: none;\n",
              "      fill: #1967D2;\n",
              "      height: 32px;\n",
              "      padding: 0 0 0 0;\n",
              "      width: 32px;\n",
              "    }\n",
              "\n",
              "    .colab-df-convert:hover {\n",
              "      background-color: #E2EBFA;\n",
              "      box-shadow: 0px 1px 2px rgba(60, 64, 67, 0.3), 0px 1px 3px 1px rgba(60, 64, 67, 0.15);\n",
              "      fill: #174EA6;\n",
              "    }\n",
              "\n",
              "    .colab-df-buttons div {\n",
              "      margin-bottom: 4px;\n",
              "    }\n",
              "\n",
              "    [theme=dark] .colab-df-convert {\n",
              "      background-color: #3B4455;\n",
              "      fill: #D2E3FC;\n",
              "    }\n",
              "\n",
              "    [theme=dark] .colab-df-convert:hover {\n",
              "      background-color: #434B5C;\n",
              "      box-shadow: 0px 1px 3px 1px rgba(0, 0, 0, 0.15);\n",
              "      filter: drop-shadow(0px 1px 2px rgba(0, 0, 0, 0.3));\n",
              "      fill: #FFFFFF;\n",
              "    }\n",
              "  </style>\n",
              "\n",
              "    <script>\n",
              "      const buttonEl =\n",
              "        document.querySelector('#df-b9510376-ea83-4e93-a565-147e9c6d7793 button.colab-df-convert');\n",
              "      buttonEl.style.display =\n",
              "        google.colab.kernel.accessAllowed ? 'block' : 'none';\n",
              "\n",
              "      async function convertToInteractive(key) {\n",
              "        const element = document.querySelector('#df-b9510376-ea83-4e93-a565-147e9c6d7793');\n",
              "        const dataTable =\n",
              "          await google.colab.kernel.invokeFunction('convertToInteractive',\n",
              "                                                    [key], {});\n",
              "        if (!dataTable) return;\n",
              "\n",
              "        const docLinkHtml = 'Like what you see? Visit the ' +\n",
              "          '<a target=\"_blank\" href=https://colab.research.google.com/notebooks/data_table.ipynb>data table notebook</a>'\n",
              "          + ' to learn more about interactive tables.';\n",
              "        element.innerHTML = '';\n",
              "        dataTable['output_type'] = 'display_data';\n",
              "        await google.colab.output.renderOutput(dataTable, element);\n",
              "        const docLink = document.createElement('div');\n",
              "        docLink.innerHTML = docLinkHtml;\n",
              "        element.appendChild(docLink);\n",
              "      }\n",
              "    </script>\n",
              "  </div>\n",
              "\n",
              "\n",
              "<div id=\"df-ea1f6deb-3138-4503-bd57-79a251d9b1be\">\n",
              "  <button class=\"colab-df-quickchart\" onclick=\"quickchart('df-ea1f6deb-3138-4503-bd57-79a251d9b1be')\"\n",
              "            title=\"Suggest charts\"\n",
              "            style=\"display:none;\">\n",
              "\n",
              "<svg xmlns=\"http://www.w3.org/2000/svg\" height=\"24px\"viewBox=\"0 0 24 24\"\n",
              "     width=\"24px\">\n",
              "    <g>\n",
              "        <path d=\"M19 3H5c-1.1 0-2 .9-2 2v14c0 1.1.9 2 2 2h14c1.1 0 2-.9 2-2V5c0-1.1-.9-2-2-2zM9 17H7v-7h2v7zm4 0h-2V7h2v10zm4 0h-2v-4h2v4z\"/>\n",
              "    </g>\n",
              "</svg>\n",
              "  </button>\n",
              "\n",
              "<style>\n",
              "  .colab-df-quickchart {\n",
              "      --bg-color: #E8F0FE;\n",
              "      --fill-color: #1967D2;\n",
              "      --hover-bg-color: #E2EBFA;\n",
              "      --hover-fill-color: #174EA6;\n",
              "      --disabled-fill-color: #AAA;\n",
              "      --disabled-bg-color: #DDD;\n",
              "  }\n",
              "\n",
              "  [theme=dark] .colab-df-quickchart {\n",
              "      --bg-color: #3B4455;\n",
              "      --fill-color: #D2E3FC;\n",
              "      --hover-bg-color: #434B5C;\n",
              "      --hover-fill-color: #FFFFFF;\n",
              "      --disabled-bg-color: #3B4455;\n",
              "      --disabled-fill-color: #666;\n",
              "  }\n",
              "\n",
              "  .colab-df-quickchart {\n",
              "    background-color: var(--bg-color);\n",
              "    border: none;\n",
              "    border-radius: 50%;\n",
              "    cursor: pointer;\n",
              "    display: none;\n",
              "    fill: var(--fill-color);\n",
              "    height: 32px;\n",
              "    padding: 0;\n",
              "    width: 32px;\n",
              "  }\n",
              "\n",
              "  .colab-df-quickchart:hover {\n",
              "    background-color: var(--hover-bg-color);\n",
              "    box-shadow: 0 1px 2px rgba(60, 64, 67, 0.3), 0 1px 3px 1px rgba(60, 64, 67, 0.15);\n",
              "    fill: var(--button-hover-fill-color);\n",
              "  }\n",
              "\n",
              "  .colab-df-quickchart-complete:disabled,\n",
              "  .colab-df-quickchart-complete:disabled:hover {\n",
              "    background-color: var(--disabled-bg-color);\n",
              "    fill: var(--disabled-fill-color);\n",
              "    box-shadow: none;\n",
              "  }\n",
              "\n",
              "  .colab-df-spinner {\n",
              "    border: 2px solid var(--fill-color);\n",
              "    border-color: transparent;\n",
              "    border-bottom-color: var(--fill-color);\n",
              "    animation:\n",
              "      spin 1s steps(1) infinite;\n",
              "  }\n",
              "\n",
              "  @keyframes spin {\n",
              "    0% {\n",
              "      border-color: transparent;\n",
              "      border-bottom-color: var(--fill-color);\n",
              "      border-left-color: var(--fill-color);\n",
              "    }\n",
              "    20% {\n",
              "      border-color: transparent;\n",
              "      border-left-color: var(--fill-color);\n",
              "      border-top-color: var(--fill-color);\n",
              "    }\n",
              "    30% {\n",
              "      border-color: transparent;\n",
              "      border-left-color: var(--fill-color);\n",
              "      border-top-color: var(--fill-color);\n",
              "      border-right-color: var(--fill-color);\n",
              "    }\n",
              "    40% {\n",
              "      border-color: transparent;\n",
              "      border-right-color: var(--fill-color);\n",
              "      border-top-color: var(--fill-color);\n",
              "    }\n",
              "    60% {\n",
              "      border-color: transparent;\n",
              "      border-right-color: var(--fill-color);\n",
              "    }\n",
              "    80% {\n",
              "      border-color: transparent;\n",
              "      border-right-color: var(--fill-color);\n",
              "      border-bottom-color: var(--fill-color);\n",
              "    }\n",
              "    90% {\n",
              "      border-color: transparent;\n",
              "      border-bottom-color: var(--fill-color);\n",
              "    }\n",
              "  }\n",
              "</style>\n",
              "\n",
              "  <script>\n",
              "    async function quickchart(key) {\n",
              "      const quickchartButtonEl =\n",
              "        document.querySelector('#' + key + ' button');\n",
              "      quickchartButtonEl.disabled = true;  // To prevent multiple clicks.\n",
              "      quickchartButtonEl.classList.add('colab-df-spinner');\n",
              "      try {\n",
              "        const charts = await google.colab.kernel.invokeFunction(\n",
              "            'suggestCharts', [key], {});\n",
              "      } catch (error) {\n",
              "        console.error('Error during call to suggestCharts:', error);\n",
              "      }\n",
              "      quickchartButtonEl.classList.remove('colab-df-spinner');\n",
              "      quickchartButtonEl.classList.add('colab-df-quickchart-complete');\n",
              "    }\n",
              "    (() => {\n",
              "      let quickchartButtonEl =\n",
              "        document.querySelector('#df-ea1f6deb-3138-4503-bd57-79a251d9b1be button');\n",
              "      quickchartButtonEl.style.display =\n",
              "        google.colab.kernel.accessAllowed ? 'block' : 'none';\n",
              "    })();\n",
              "  </script>\n",
              "</div>\n",
              "\n",
              "    </div>\n",
              "  </div>\n"
            ],
            "application/vnd.google.colaboratory.intrinsic+json": {
              "type": "dataframe",
              "summary": "{\n  \"name\": \"calls\",\n  \"rows\": 8,\n  \"fields\": [\n    {\n      \"column\": \"Strike\",\n      \"properties\": {\n        \"dtype\": \"number\",\n        \"std\": 202.4009705393314,\n        \"min\": 82.0,\n        \"max\": 660.0,\n        \"num_unique_values\": 8,\n        \"samples\": [\n          426.890243902439,\n          427.5,\n          82.0\n        ],\n        \"semantic_type\": \"\",\n        \"description\": \"\"\n      }\n    },\n    {\n      \"column\": \"Last Price\",\n      \"properties\": {\n        \"dtype\": \"number\",\n        \"std\": 72.0922255935423,\n        \"min\": 0.22,\n        \"max\": 224.43,\n        \"num_unique_values\": 8,\n        \"samples\": [\n          55.39792682926829,\n          22.75,\n          82.0\n        ],\n        \"semantic_type\": \"\",\n        \"description\": \"\"\n      }\n    },\n    {\n      \"column\": \"Bid\",\n      \"properties\": {\n        \"dtype\": \"number\",\n        \"std\": 68.27342081064137,\n        \"min\": 0.0,\n        \"max\": 211.6,\n        \"num_unique_values\": 8,\n        \"samples\": [\n          52.257926829268285,\n          22.5,\n          82.0\n        ],\n        \"semantic_type\": \"\",\n        \"description\": \"\"\n      }\n    },\n    {\n      \"column\": \"Ask\",\n      \"properties\": {\n        \"dtype\": \"number\",\n        \"std\": 69.14809273558191,\n        \"min\": 0.21,\n        \"max\": 214.85,\n        \"num_unique_values\": 8,\n        \"samples\": [\n          53.87926829268293,\n          24.8,\n          82.0\n        ],\n        \"semantic_type\": \"\",\n        \"description\": \"\"\n      }\n    },\n    {\n      \"column\": \"Change\",\n      \"properties\": {\n        \"dtype\": \"number\",\n        \"std\": 29.35870740878351,\n        \"min\": -6.8,\n        \"max\": 82.0,\n        \"num_unique_values\": 7,\n        \"samples\": [\n          82.0,\n          -1.0698780487804878,\n          0.0\n        ],\n        \"semantic_type\": \"\",\n        \"description\": \"\"\n      }\n    },\n    {\n      \"column\": \"Open Interest\",\n      \"properties\": {\n        \"dtype\": \"number\",\n        \"std\": 1793.238012495747,\n        \"min\": 0.0,\n        \"max\": 5271.0,\n        \"num_unique_values\": 8,\n        \"samples\": [\n          339.8170731707317,\n          122.5,\n          82.0\n        ],\n        \"semantic_type\": \"\",\n        \"description\": \"\"\n      }\n    }\n  ]\n}"
            }
          },
          "metadata": {},
          "execution_count": 71
        }
      ]
    },
    {
      "cell_type": "code",
      "source": [
        "calls[\"Implied Volatility\"] = calls[\"Implied Volatility\"].str[:-1].astype(float)\n",
        "calls = calls[calls[\"Implied Volatility\"] != 0]"
      ],
      "metadata": {
        "id": "iSHE0Msjm7GE"
      },
      "execution_count": 72,
      "outputs": []
    },
    {
      "cell_type": "markdown",
      "source": [
        "We first calculate the price of a call option on Microsoft stock expiring on 2025-08-15, using the median strike price and volatility from the calls dataset. Before proceeding, we define the following variables:"
      ],
      "metadata": {
        "id": "Oe7qWsk8svUO"
      }
    },
    {
      "cell_type": "markdown",
      "source": [
        "- K: Strike price in US dollars\n",
        "- S: Stock price in US dollars\n",
        "- T: Time to expiration in number of years\n",
        "- r: Risk-free rate (based on current yield on 6 month trasury bill)\n",
        "- v: Volatility\n",
        "- C: Price of option"
      ],
      "metadata": {
        "id": "t3X83E3AiQDp"
      }
    },
    {
      "cell_type": "code",
      "source": [
        "strike_price = calls[\"Strike\"].median()\n",
        "imp_vol = calls[\"Implied Volatility\"].median()\n",
        "print(f\"strike_price = {strike_price}, imp_vol ={imp_vol}\")"
      ],
      "metadata": {
        "id": "pJh-3sZj1kpD",
        "outputId": "e0635118-4a94-4480-8cb0-7210b4bb916d",
        "colab": {
          "base_uri": "https://localhost:8080/"
        }
      },
      "execution_count": 88,
      "outputs": [
        {
          "output_type": "stream",
          "name": "stdout",
          "text": [
            "strike_price = 427.5, imp_vol =29.060000000000002\n"
          ]
        }
      ]
    },
    {
      "cell_type": "code",
      "source": [
        "S = 408.43\t# closing stock price on Feb 14\n",
        "K = strike_price\n",
        "T = 0.5 # 6 months\n",
        "r = 0.0434 # current yield on 6 month treasury bill (4.34%)\n",
        "v = imp_vol/100"
      ],
      "metadata": {
        "id": "6UEoHCMCdVsX"
      },
      "execution_count": 89,
      "outputs": []
    },
    {
      "cell_type": "markdown",
      "source": [
        "Formula for Call Options:\n",
        "$$d_1 = \\frac{1}{v \\cdot \\sqrt{T}} * \\left[ln\\left(\\frac{S}{K}\\right) + \\left(r + \\frac{1}{2}v^2\\right) \\cdot T\\right]$$\n",
        "$$d_2 = d_1 - v \\cdot \\sqrt{T}$$\n",
        "$$F =  S \\cdot N[d_1] - e^{−rT} \\cdot K \\cdot N[d_2]$$"
      ],
      "metadata": {
        "id": "MRoL5kwagmOO"
      }
    },
    {
      "cell_type": "code",
      "source": [
        "def calc_call_option_price(S, K, T, r, v):\n",
        "  d1 = (math.log(S/K) + (r + 0.5 * v**2) * T) / (v * math.sqrt(T))\n",
        "  d2 = d1 - v * math.sqrt(T)\n",
        "  F = S * norm.cdf(d1) - math.exp(-r * T) * K * norm.cdf(d2)\n",
        "  return F"
      ],
      "metadata": {
        "id": "2MI8wHNifwQF"
      },
      "execution_count": 90,
      "outputs": []
    },
    {
      "cell_type": "code",
      "source": [
        "calc_call_option_price(S, K, T, r, v)"
      ],
      "metadata": {
        "id": "EG9WuPQUiFKH",
        "outputId": "87c5a9f4-36c8-430d-e7ee-5adedb505da1",
        "colab": {
          "base_uri": "https://localhost:8080/"
        }
      },
      "execution_count": 91,
      "outputs": [
        {
          "output_type": "execute_result",
          "data": {
            "text/plain": [
              "29.10953356450932"
            ]
          },
          "metadata": {},
          "execution_count": 91
        }
      ]
    },
    {
      "cell_type": "markdown",
      "source": [
        "Next, we compute the theoretical price for each option in the calls dataset and add it as a new column."
      ],
      "metadata": {
        "id": "ZmzJq5wctAED"
      }
    },
    {
      "cell_type": "code",
      "source": [
        "calls[\"Theoretical Price\"] = calls.apply(\n",
        "    lambda row: calc_call_option_price(S, row[\"Strike\"], T, r, row[\"Implied Volatility\"]/100),\n",
        "    axis=1\n",
        ")"
      ],
      "metadata": {
        "id": "Bx5C-jx6tEwe"
      },
      "execution_count": 92,
      "outputs": []
    },
    {
      "cell_type": "code",
      "source": [
        "plot = sns.relplot(x=\"Implied Volatility\", y=\"Theoretical Price\", data=calls, kind=\"line\")\n",
        "plot.ax.set_title(\"Line Plot of Call Option Prices\")"
      ],
      "metadata": {
        "id": "hIB0oDHXvMGW",
        "outputId": "1a805f98-06ff-4691-830e-fc7cfe74868e",
        "colab": {
          "base_uri": "https://localhost:8080/",
          "height": 547
        }
      },
      "execution_count": 93,
      "outputs": [
        {
          "output_type": "execute_result",
          "data": {
            "text/plain": [
              "Text(0.5, 1.0, 'Line Plot of Call Option Prices')"
            ]
          },
          "metadata": {},
          "execution_count": 93
        },
        {
          "output_type": "display_data",
          "data": {
            "text/plain": [
              "<Figure size 500x500 with 1 Axes>"
            ],
            "image/png": "[encoded data removed]"
          },
          "metadata": {}
        }
      ]
    },
    {
      "cell_type": "markdown",
      "source": [
        "## Pricing Put Options"
      ],
      "metadata": {
        "id": "jH_BXu490U0Q"
      }
    },
    {
      "cell_type": "code",
      "source": [
        "put_options = options.get_puts(\"MSFT\", \"2025-08-15\")"
      ],
      "metadata": {
        "id": "bLoAZSW60UJ4",
        "outputId": "079275cc-5e1b-4442-eaa3-4b5fa76ec914",
        "colab": {
          "base_uri": "https://localhost:8080/"
        }
      },
      "execution_count": 94,
      "outputs": [
        {
          "output_type": "stream",
          "name": "stderr",
          "text": [
            "/usr/local/lib/python3.11/dist-packages/yahoo_fin/options.py:42: FutureWarning: Passing literal html to 'read_html' is deprecated and will be removed in a future version. To read from a literal string, wrap it in a 'StringIO' object.\n",
            "  tables = pd.read_html(requests.get(site, headers=headers).text)\n"
          ]
        }
      ]
    },
    {
      "cell_type": "code",
      "source": [
        "df2 = pd.DataFrame(put_options)\n",
        "df2.to_csv('put_options.csv', index=False)"
      ],
      "metadata": {
        "id": "Fbht9tziajGK"
      },
      "execution_count": 95,
      "outputs": []
    },
    {
      "cell_type": "code",
      "source": [
        "puts = df2.copy()"
      ],
      "metadata": {
        "id": "H45fojiZa8_B"
      },
      "execution_count": 96,
      "outputs": []
    },
    {
      "cell_type": "code",
      "source": [
        "puts[\"Implied Volatility\"] = puts[\"Implied Volatility\"].str[:-1].astype(float)\n",
        "puts = puts[puts[\"Implied Volatility\"] != 0]"
      ],
      "metadata": {
        "id": "iUMzR-sIavWB"
      },
      "execution_count": 97,
      "outputs": []
    },
    {
      "cell_type": "markdown",
      "source": [
        "Formula for Put Options:\n",
        "$$F = e^{−r(T −t)} \\cdot K \\cdot N[d_2] - S \\cdot N[d_1]$$"
      ],
      "metadata": {
        "id": "HcobKhprfXy7"
      }
    },
    {
      "cell_type": "code",
      "source": [
        "def calc_put_option_price(S, K, T, r, v):\n",
        "  d1 = (math.log(S/K) + (r + 0.5 * v**2) * T) / (v * math.sqrt(T))\n",
        "  d2 = d1 - v * math.sqrt(T)\n",
        "  F = math.exp(-r * T) * K * norm.cdf(-d2) - S * norm.cdf(-d1)\n",
        "  return F"
      ],
      "metadata": {
        "id": "wNPXd5uJsj1g"
      },
      "execution_count": 98,
      "outputs": []
    },
    {
      "cell_type": "code",
      "source": [
        "puts[\"Theoretical Price\"] = puts.apply(\n",
        "    lambda row: calc_put_option_price(S, row[\"Strike\"], T, r, row[\"Implied Volatility\"]/100),\n",
        "    axis=1\n",
        ")"
      ],
      "metadata": {
        "id": "bhnBrK0-bIi6"
      },
      "execution_count": 99,
      "outputs": []
    },
    {
      "cell_type": "code",
      "source": [
        "fig, axs = plt.subplots(1, 2, figsize=(10, 5))\n",
        "\n",
        "sns.lineplot(x=\"Implied Volatility\", y=\"Theoretical Price\", data=puts, ax=axs[0])\n",
        "axs[0].set_title(\"Line Plot of Theorectical Put Option Prices\")\n",
        "\n",
        "sns.scatterplot(x=\"Implied Volatility\", y=\"Theoretical Price\", data=puts, ax=axs[1])\n",
        "axs[1].set_title(\"Scatterplot of Theorectical Put Option Prices\")"
      ],
      "metadata": {
        "id": "6NXYr_4ebRSX",
        "outputId": "1cc05173-1ac8-40a8-d540-a021a89a9d3a",
        "colab": {
          "base_uri": "https://localhost:8080/",
          "height": 505
        }
      },
      "execution_count": 100,
      "outputs": [
        {
          "output_type": "execute_result",
          "data": {
            "text/plain": [
              "Text(0.5, 1.0, 'Scatterplot of Theorectical Put Option Prices')"
            ]
          },
          "metadata": {},
          "execution_count": 100
        },
        {
          "output_type": "display_data",
          "data": {
            "text/plain": [
              "<Figure size 1000x500 with 2 Axes>"
            ],
            "image/png": "[encoded data removed]"
          },
          "metadata": {}
        }
      ]
    }
  ],
  "metadata": {
    "colab": {
      "name": "Welcome To Colab",
      "provenance": []
    },
    "kernelspec": {
      "display_name": "Python 3",
      "name": "python3"
    }
  },
  "nbformat": 4,
  "nbformat_minor": 0
}